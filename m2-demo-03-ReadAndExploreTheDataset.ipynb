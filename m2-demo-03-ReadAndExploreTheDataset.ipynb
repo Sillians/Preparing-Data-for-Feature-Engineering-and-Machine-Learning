{
 "cells": [
  {
   "cell_type": "markdown",
   "metadata": {},
   "source": [
    "### Importing libraries"
   ]
  },
  {
   "cell_type": "code",
   "execution_count": 2,
   "metadata": {},
   "outputs": [],
   "source": [
    "import numpy as np\n",
    "import pandas as pd\n",
    "import matplotlib\n",
    "\n",
    "import matplotlib.pyplot as plt\n",
    "%matplotlib inline"
   ]
  },
  {
   "cell_type": "markdown",
   "metadata": {},
   "source": [
    "<b>Dataset source:</b>\n",
    "https://github.com/selva86/datasets/blob/master/Cars93.csv\n",
    "\n",
    "Details about 93 cars"
   ]
  },
  {
   "cell_type": "code",
   "execution_count": 3,
   "metadata": {},
   "outputs": [
    {
     "data": {
      "text/html": [
       "<div>\n",
       "<style scoped>\n",
       "    .dataframe tbody tr th:only-of-type {\n",
       "        vertical-align: middle;\n",
       "    }\n",
       "\n",
       "    .dataframe tbody tr th {\n",
       "        vertical-align: top;\n",
       "    }\n",
       "\n",
       "    .dataframe thead th {\n",
       "        text-align: right;\n",
       "    }\n",
       "</style>\n",
       "<table border=\"1\" class=\"dataframe\">\n",
       "  <thead>\n",
       "    <tr style=\"text-align: right;\">\n",
       "      <th></th>\n",
       "      <th>Manufacturer</th>\n",
       "      <th>Model</th>\n",
       "      <th>Type</th>\n",
       "      <th>Min.Price</th>\n",
       "      <th>Price</th>\n",
       "      <th>Max.Price</th>\n",
       "      <th>MPG.city</th>\n",
       "      <th>MPG.highway</th>\n",
       "      <th>AirBags</th>\n",
       "      <th>DriveTrain</th>\n",
       "      <th>...</th>\n",
       "      <th>Passengers</th>\n",
       "      <th>Length</th>\n",
       "      <th>Wheelbase</th>\n",
       "      <th>Width</th>\n",
       "      <th>Turn.circle</th>\n",
       "      <th>Rear.seat.room</th>\n",
       "      <th>Luggage.room</th>\n",
       "      <th>Weight</th>\n",
       "      <th>Origin</th>\n",
       "      <th>Make</th>\n",
       "    </tr>\n",
       "  </thead>\n",
       "  <tbody>\n",
       "    <tr>\n",
       "      <th>0</th>\n",
       "      <td>Ford</td>\n",
       "      <td>Festiva</td>\n",
       "      <td>Small</td>\n",
       "      <td>6.9</td>\n",
       "      <td>7.4</td>\n",
       "      <td>7.9</td>\n",
       "      <td>31</td>\n",
       "      <td>33</td>\n",
       "      <td>None</td>\n",
       "      <td>Front</td>\n",
       "      <td>...</td>\n",
       "      <td>4</td>\n",
       "      <td>141</td>\n",
       "      <td>90</td>\n",
       "      <td>63</td>\n",
       "      <td>33</td>\n",
       "      <td>26.0</td>\n",
       "      <td>12.0</td>\n",
       "      <td>1845</td>\n",
       "      <td>USA</td>\n",
       "      <td>Ford Festiva</td>\n",
       "    </tr>\n",
       "    <tr>\n",
       "      <th>1</th>\n",
       "      <td>Hyundai</td>\n",
       "      <td>Excel</td>\n",
       "      <td>Small</td>\n",
       "      <td>6.8</td>\n",
       "      <td>8.0</td>\n",
       "      <td>9.2</td>\n",
       "      <td>29</td>\n",
       "      <td>33</td>\n",
       "      <td>None</td>\n",
       "      <td>Front</td>\n",
       "      <td>...</td>\n",
       "      <td>5</td>\n",
       "      <td>168</td>\n",
       "      <td>94</td>\n",
       "      <td>63</td>\n",
       "      <td>35</td>\n",
       "      <td>26.0</td>\n",
       "      <td>11.0</td>\n",
       "      <td>2345</td>\n",
       "      <td>non-USA</td>\n",
       "      <td>Hyundai Excel</td>\n",
       "    </tr>\n",
       "    <tr>\n",
       "      <th>2</th>\n",
       "      <td>Mazda</td>\n",
       "      <td>323</td>\n",
       "      <td>Small</td>\n",
       "      <td>7.4</td>\n",
       "      <td>8.3</td>\n",
       "      <td>9.1</td>\n",
       "      <td>29</td>\n",
       "      <td>37</td>\n",
       "      <td>None</td>\n",
       "      <td>Front</td>\n",
       "      <td>...</td>\n",
       "      <td>4</td>\n",
       "      <td>164</td>\n",
       "      <td>97</td>\n",
       "      <td>66</td>\n",
       "      <td>34</td>\n",
       "      <td>27.0</td>\n",
       "      <td>16.0</td>\n",
       "      <td>2325</td>\n",
       "      <td>non-USA</td>\n",
       "      <td>Mazda 323</td>\n",
       "    </tr>\n",
       "    <tr>\n",
       "      <th>3</th>\n",
       "      <td>Geo</td>\n",
       "      <td>Metro</td>\n",
       "      <td>Small</td>\n",
       "      <td>6.7</td>\n",
       "      <td>8.4</td>\n",
       "      <td>10.0</td>\n",
       "      <td>46</td>\n",
       "      <td>50</td>\n",
       "      <td>None</td>\n",
       "      <td>Front</td>\n",
       "      <td>...</td>\n",
       "      <td>4</td>\n",
       "      <td>151</td>\n",
       "      <td>93</td>\n",
       "      <td>63</td>\n",
       "      <td>34</td>\n",
       "      <td>27.5</td>\n",
       "      <td>10.0</td>\n",
       "      <td>1695</td>\n",
       "      <td>non-USA</td>\n",
       "      <td>Geo Metro</td>\n",
       "    </tr>\n",
       "    <tr>\n",
       "      <th>4</th>\n",
       "      <td>Subaru</td>\n",
       "      <td>Justy</td>\n",
       "      <td>Small</td>\n",
       "      <td>7.3</td>\n",
       "      <td>8.4</td>\n",
       "      <td>9.5</td>\n",
       "      <td>33</td>\n",
       "      <td>37</td>\n",
       "      <td>None</td>\n",
       "      <td>4WD</td>\n",
       "      <td>...</td>\n",
       "      <td>4</td>\n",
       "      <td>146</td>\n",
       "      <td>90</td>\n",
       "      <td>60</td>\n",
       "      <td>32</td>\n",
       "      <td>23.5</td>\n",
       "      <td>10.0</td>\n",
       "      <td>2045</td>\n",
       "      <td>non-USA</td>\n",
       "      <td>Subaru Justy</td>\n",
       "    </tr>\n",
       "  </tbody>\n",
       "</table>\n",
       "<p>5 rows × 27 columns</p>\n",
       "</div>"
      ],
      "text/plain": [
       "  Manufacturer    Model   Type  Min.Price  Price  Max.Price  MPG.city  \\\n",
       "0         Ford  Festiva  Small        6.9    7.4        7.9        31   \n",
       "1      Hyundai    Excel  Small        6.8    8.0        9.2        29   \n",
       "2        Mazda      323  Small        7.4    8.3        9.1        29   \n",
       "3          Geo    Metro  Small        6.7    8.4       10.0        46   \n",
       "4       Subaru    Justy  Small        7.3    8.4        9.5        33   \n",
       "\n",
       "   MPG.highway AirBags DriveTrain  ... Passengers  Length  Wheelbase  Width  \\\n",
       "0           33    None      Front  ...          4     141         90     63   \n",
       "1           33    None      Front  ...          5     168         94     63   \n",
       "2           37    None      Front  ...          4     164         97     66   \n",
       "3           50    None      Front  ...          4     151         93     63   \n",
       "4           37    None        4WD  ...          4     146         90     60   \n",
       "\n",
       "   Turn.circle Rear.seat.room  Luggage.room  Weight   Origin           Make  \n",
       "0           33           26.0          12.0    1845      USA   Ford Festiva  \n",
       "1           35           26.0          11.0    2345  non-USA  Hyundai Excel  \n",
       "2           34           27.0          16.0    2325  non-USA      Mazda 323  \n",
       "3           34           27.5          10.0    1695  non-USA      Geo Metro  \n",
       "4           32           23.5          10.0    2045  non-USA   Subaru Justy  \n",
       "\n",
       "[5 rows x 27 columns]"
      ]
     },
     "execution_count": 3,
     "metadata": {},
     "output_type": "execute_result"
    }
   ],
   "source": [
    "cars_data = pd.read_csv('datasets/Cars90.csv')\n",
    "\n",
    "cars_data.head()"
   ]
  },
  {
   "cell_type": "code",
   "execution_count": 4,
   "metadata": {},
   "outputs": [
    {
     "data": {
      "text/plain": [
       "Index(['Manufacturer', 'Model', 'Type', 'Min.Price', 'Price', 'Max.Price',\n",
       "       'MPG.city', 'MPG.highway', 'AirBags', 'DriveTrain', 'Cylinders',\n",
       "       'EngineSize', 'Horsepower', 'RPM', 'Rev.per.mile', 'Man.trans.avail',\n",
       "       'Fuel.tank.capacity', 'Passengers', 'Length', 'Wheelbase', 'Width',\n",
       "       'Turn.circle', 'Rear.seat.room', 'Luggage.room', 'Weight', 'Origin',\n",
       "       'Make'],\n",
       "      dtype='object')"
      ]
     },
     "execution_count": 4,
     "metadata": {},
     "output_type": "execute_result"
    }
   ],
   "source": [
    "cars_data.columns"
   ]
  },
  {
   "cell_type": "markdown",
   "metadata": {},
   "source": [
    "### Check shape of data"
   ]
  },
  {
   "cell_type": "code",
   "execution_count": 5,
   "metadata": {},
   "outputs": [
    {
     "data": {
      "text/plain": [
       "(92, 27)"
      ]
     },
     "execution_count": 5,
     "metadata": {},
     "output_type": "execute_result"
    }
   ],
   "source": [
    "cars_data.shape"
   ]
  },
  {
   "cell_type": "markdown",
   "metadata": {},
   "source": [
    "### Information about data "
   ]
  },
  {
   "cell_type": "code",
   "execution_count": 6,
   "metadata": {},
   "outputs": [
    {
     "name": "stdout",
     "output_type": "stream",
     "text": [
      "<class 'pandas.core.frame.DataFrame'>\n",
      "RangeIndex: 92 entries, 0 to 91\n",
      "Data columns (total 27 columns):\n",
      "Manufacturer          92 non-null object\n",
      "Model                 92 non-null object\n",
      "Type                  92 non-null object\n",
      "Min.Price             92 non-null float64\n",
      "Price                 92 non-null float64\n",
      "Max.Price             92 non-null float64\n",
      "MPG.city              92 non-null int64\n",
      "MPG.highway           92 non-null int64\n",
      "AirBags               92 non-null object\n",
      "DriveTrain            92 non-null object\n",
      "Cylinders             92 non-null object\n",
      "EngineSize            92 non-null float64\n",
      "Horsepower            92 non-null int64\n",
      "RPM                   92 non-null int64\n",
      "Rev.per.mile          92 non-null int64\n",
      "Man.trans.avail       92 non-null object\n",
      "Fuel.tank.capacity    92 non-null float64\n",
      "Passengers            92 non-null int64\n",
      "Length                92 non-null int64\n",
      "Wheelbase             92 non-null int64\n",
      "Width                 92 non-null int64\n",
      "Turn.circle           92 non-null int64\n",
      "Rear.seat.room        90 non-null float64\n",
      "Luggage.room          81 non-null float64\n",
      "Weight                92 non-null int64\n",
      "Origin                92 non-null object\n",
      "Make                  92 non-null object\n",
      "dtypes: float64(7), int64(11), object(9)\n",
      "memory usage: 19.5+ KB\n"
     ]
    }
   ],
   "source": [
    "cars_data.info()"
   ]
  },
  {
   "cell_type": "markdown",
   "metadata": {},
   "source": [
    "#### Get info about the distribution of numerical fields"
   ]
  },
  {
   "cell_type": "code",
   "execution_count": 7,
   "metadata": {},
   "outputs": [
    {
     "data": {
      "text/html": [
       "<div>\n",
       "<style scoped>\n",
       "    .dataframe tbody tr th:only-of-type {\n",
       "        vertical-align: middle;\n",
       "    }\n",
       "\n",
       "    .dataframe tbody tr th {\n",
       "        vertical-align: top;\n",
       "    }\n",
       "\n",
       "    .dataframe thead th {\n",
       "        text-align: right;\n",
       "    }\n",
       "</style>\n",
       "<table border=\"1\" class=\"dataframe\">\n",
       "  <thead>\n",
       "    <tr style=\"text-align: right;\">\n",
       "      <th></th>\n",
       "      <th>Min.Price</th>\n",
       "      <th>Price</th>\n",
       "      <th>Max.Price</th>\n",
       "      <th>MPG.city</th>\n",
       "      <th>MPG.highway</th>\n",
       "      <th>EngineSize</th>\n",
       "      <th>Horsepower</th>\n",
       "      <th>RPM</th>\n",
       "      <th>Rev.per.mile</th>\n",
       "      <th>Fuel.tank.capacity</th>\n",
       "      <th>Passengers</th>\n",
       "      <th>Length</th>\n",
       "      <th>Wheelbase</th>\n",
       "      <th>Width</th>\n",
       "      <th>Turn.circle</th>\n",
       "      <th>Rear.seat.room</th>\n",
       "      <th>Luggage.room</th>\n",
       "      <th>Weight</th>\n",
       "    </tr>\n",
       "  </thead>\n",
       "  <tbody>\n",
       "    <tr>\n",
       "      <th>count</th>\n",
       "      <td>92.000000</td>\n",
       "      <td>92.000000</td>\n",
       "      <td>92.000000</td>\n",
       "      <td>92.000000</td>\n",
       "      <td>92.000000</td>\n",
       "      <td>92.000000</td>\n",
       "      <td>92.000000</td>\n",
       "      <td>92.000000</td>\n",
       "      <td>92.000000</td>\n",
       "      <td>92.000000</td>\n",
       "      <td>92.000000</td>\n",
       "      <td>92.000000</td>\n",
       "      <td>92.000000</td>\n",
       "      <td>92.000000</td>\n",
       "      <td>92.000000</td>\n",
       "      <td>90.000000</td>\n",
       "      <td>81.000000</td>\n",
       "      <td>92.000000</td>\n",
       "    </tr>\n",
       "    <tr>\n",
       "      <th>mean</th>\n",
       "      <td>16.835870</td>\n",
       "      <td>19.048913</td>\n",
       "      <td>21.267391</td>\n",
       "      <td>22.402174</td>\n",
       "      <td>29.130435</td>\n",
       "      <td>2.661957</td>\n",
       "      <td>143.032609</td>\n",
       "      <td>5278.260870</td>\n",
       "      <td>2333.423913</td>\n",
       "      <td>16.644565</td>\n",
       "      <td>5.086957</td>\n",
       "      <td>183.163043</td>\n",
       "      <td>103.880435</td>\n",
       "      <td>69.380435</td>\n",
       "      <td>38.978261</td>\n",
       "      <td>27.838889</td>\n",
       "      <td>13.876543</td>\n",
       "      <td>3067.989130</td>\n",
       "    </tr>\n",
       "    <tr>\n",
       "      <th>std</th>\n",
       "      <td>8.332455</td>\n",
       "      <td>8.623728</td>\n",
       "      <td>9.247098</td>\n",
       "      <td>5.639460</td>\n",
       "      <td>5.343616</td>\n",
       "      <td>1.041538</td>\n",
       "      <td>52.093629</td>\n",
       "      <td>599.555896</td>\n",
       "      <td>499.087040</td>\n",
       "      <td>3.291660</td>\n",
       "      <td>1.044632</td>\n",
       "      <td>14.676944</td>\n",
       "      <td>6.827292</td>\n",
       "      <td>3.799486</td>\n",
       "      <td>3.234356</td>\n",
       "      <td>3.004517</td>\n",
       "      <td>3.014062</td>\n",
       "      <td>591.211765</td>\n",
       "    </tr>\n",
       "    <tr>\n",
       "      <th>min</th>\n",
       "      <td>6.700000</td>\n",
       "      <td>7.400000</td>\n",
       "      <td>7.900000</td>\n",
       "      <td>15.000000</td>\n",
       "      <td>20.000000</td>\n",
       "      <td>1.000000</td>\n",
       "      <td>55.000000</td>\n",
       "      <td>3800.000000</td>\n",
       "      <td>1320.000000</td>\n",
       "      <td>9.200000</td>\n",
       "      <td>2.000000</td>\n",
       "      <td>141.000000</td>\n",
       "      <td>90.000000</td>\n",
       "      <td>60.000000</td>\n",
       "      <td>32.000000</td>\n",
       "      <td>19.000000</td>\n",
       "      <td>6.000000</td>\n",
       "      <td>1695.000000</td>\n",
       "    </tr>\n",
       "    <tr>\n",
       "      <th>25%</th>\n",
       "      <td>10.725000</td>\n",
       "      <td>12.175000</td>\n",
       "      <td>14.575000</td>\n",
       "      <td>18.000000</td>\n",
       "      <td>26.000000</td>\n",
       "      <td>1.800000</td>\n",
       "      <td>102.750000</td>\n",
       "      <td>4800.000000</td>\n",
       "      <td>1983.750000</td>\n",
       "      <td>14.500000</td>\n",
       "      <td>4.000000</td>\n",
       "      <td>174.000000</td>\n",
       "      <td>98.000000</td>\n",
       "      <td>67.000000</td>\n",
       "      <td>36.750000</td>\n",
       "      <td>26.000000</td>\n",
       "      <td>12.000000</td>\n",
       "      <td>2608.750000</td>\n",
       "    </tr>\n",
       "    <tr>\n",
       "      <th>50%</th>\n",
       "      <td>14.600000</td>\n",
       "      <td>17.600000</td>\n",
       "      <td>19.550000</td>\n",
       "      <td>21.000000</td>\n",
       "      <td>28.000000</td>\n",
       "      <td>2.350000</td>\n",
       "      <td>140.000000</td>\n",
       "      <td>5200.000000</td>\n",
       "      <td>2350.000000</td>\n",
       "      <td>16.200000</td>\n",
       "      <td>5.000000</td>\n",
       "      <td>182.500000</td>\n",
       "      <td>103.000000</td>\n",
       "      <td>69.000000</td>\n",
       "      <td>39.000000</td>\n",
       "      <td>27.500000</td>\n",
       "      <td>14.000000</td>\n",
       "      <td>3035.000000</td>\n",
       "    </tr>\n",
       "    <tr>\n",
       "      <th>75%</th>\n",
       "      <td>20.150000</td>\n",
       "      <td>22.850000</td>\n",
       "      <td>25.000000</td>\n",
       "      <td>25.000000</td>\n",
       "      <td>31.000000</td>\n",
       "      <td>3.300000</td>\n",
       "      <td>170.000000</td>\n",
       "      <td>5762.500000</td>\n",
       "      <td>2572.500000</td>\n",
       "      <td>18.850000</td>\n",
       "      <td>6.000000</td>\n",
       "      <td>192.250000</td>\n",
       "      <td>110.000000</td>\n",
       "      <td>72.000000</td>\n",
       "      <td>41.250000</td>\n",
       "      <td>30.000000</td>\n",
       "      <td>15.000000</td>\n",
       "      <td>3526.250000</td>\n",
       "    </tr>\n",
       "    <tr>\n",
       "      <th>max</th>\n",
       "      <td>45.400000</td>\n",
       "      <td>47.900000</td>\n",
       "      <td>50.400000</td>\n",
       "      <td>46.000000</td>\n",
       "      <td>50.000000</td>\n",
       "      <td>5.700000</td>\n",
       "      <td>300.000000</td>\n",
       "      <td>6500.000000</td>\n",
       "      <td>3755.000000</td>\n",
       "      <td>27.000000</td>\n",
       "      <td>8.000000</td>\n",
       "      <td>219.000000</td>\n",
       "      <td>119.000000</td>\n",
       "      <td>78.000000</td>\n",
       "      <td>45.000000</td>\n",
       "      <td>36.000000</td>\n",
       "      <td>22.000000</td>\n",
       "      <td>4105.000000</td>\n",
       "    </tr>\n",
       "  </tbody>\n",
       "</table>\n",
       "</div>"
      ],
      "text/plain": [
       "       Min.Price      Price  Max.Price   MPG.city  MPG.highway  EngineSize  \\\n",
       "count  92.000000  92.000000  92.000000  92.000000    92.000000   92.000000   \n",
       "mean   16.835870  19.048913  21.267391  22.402174    29.130435    2.661957   \n",
       "std     8.332455   8.623728   9.247098   5.639460     5.343616    1.041538   \n",
       "min     6.700000   7.400000   7.900000  15.000000    20.000000    1.000000   \n",
       "25%    10.725000  12.175000  14.575000  18.000000    26.000000    1.800000   \n",
       "50%    14.600000  17.600000  19.550000  21.000000    28.000000    2.350000   \n",
       "75%    20.150000  22.850000  25.000000  25.000000    31.000000    3.300000   \n",
       "max    45.400000  47.900000  50.400000  46.000000    50.000000    5.700000   \n",
       "\n",
       "       Horsepower          RPM  Rev.per.mile  Fuel.tank.capacity  Passengers  \\\n",
       "count   92.000000    92.000000     92.000000           92.000000   92.000000   \n",
       "mean   143.032609  5278.260870   2333.423913           16.644565    5.086957   \n",
       "std     52.093629   599.555896    499.087040            3.291660    1.044632   \n",
       "min     55.000000  3800.000000   1320.000000            9.200000    2.000000   \n",
       "25%    102.750000  4800.000000   1983.750000           14.500000    4.000000   \n",
       "50%    140.000000  5200.000000   2350.000000           16.200000    5.000000   \n",
       "75%    170.000000  5762.500000   2572.500000           18.850000    6.000000   \n",
       "max    300.000000  6500.000000   3755.000000           27.000000    8.000000   \n",
       "\n",
       "           Length   Wheelbase      Width  Turn.circle  Rear.seat.room  \\\n",
       "count   92.000000   92.000000  92.000000    92.000000       90.000000   \n",
       "mean   183.163043  103.880435  69.380435    38.978261       27.838889   \n",
       "std     14.676944    6.827292   3.799486     3.234356        3.004517   \n",
       "min    141.000000   90.000000  60.000000    32.000000       19.000000   \n",
       "25%    174.000000   98.000000  67.000000    36.750000       26.000000   \n",
       "50%    182.500000  103.000000  69.000000    39.000000       27.500000   \n",
       "75%    192.250000  110.000000  72.000000    41.250000       30.000000   \n",
       "max    219.000000  119.000000  78.000000    45.000000       36.000000   \n",
       "\n",
       "       Luggage.room       Weight  \n",
       "count     81.000000    92.000000  \n",
       "mean      13.876543  3067.989130  \n",
       "std        3.014062   591.211765  \n",
       "min        6.000000  1695.000000  \n",
       "25%       12.000000  2608.750000  \n",
       "50%       14.000000  3035.000000  \n",
       "75%       15.000000  3526.250000  \n",
       "max       22.000000  4105.000000  "
      ]
     },
     "execution_count": 7,
     "metadata": {},
     "output_type": "execute_result"
    }
   ],
   "source": [
    "cars_data.describe()"
   ]
  },
  {
   "cell_type": "code",
   "execution_count": 8,
   "metadata": {},
   "outputs": [
    {
     "data": {
      "text/html": [
       "<div>\n",
       "<style scoped>\n",
       "    .dataframe tbody tr th:only-of-type {\n",
       "        vertical-align: middle;\n",
       "    }\n",
       "\n",
       "    .dataframe tbody tr th {\n",
       "        vertical-align: top;\n",
       "    }\n",
       "\n",
       "    .dataframe thead th {\n",
       "        text-align: right;\n",
       "    }\n",
       "</style>\n",
       "<table border=\"1\" class=\"dataframe\">\n",
       "  <thead>\n",
       "    <tr style=\"text-align: right;\">\n",
       "      <th></th>\n",
       "      <th>Manufacturer</th>\n",
       "      <th>Model</th>\n",
       "      <th>Type</th>\n",
       "      <th>Min.Price</th>\n",
       "      <th>Price</th>\n",
       "      <th>Max.Price</th>\n",
       "      <th>MPG.city</th>\n",
       "      <th>MPG.highway</th>\n",
       "      <th>AirBags</th>\n",
       "      <th>DriveTrain</th>\n",
       "      <th>...</th>\n",
       "      <th>Passengers</th>\n",
       "      <th>Length</th>\n",
       "      <th>Wheelbase</th>\n",
       "      <th>Width</th>\n",
       "      <th>Turn.circle</th>\n",
       "      <th>Rear.seat.room</th>\n",
       "      <th>Luggage.room</th>\n",
       "      <th>Weight</th>\n",
       "      <th>Origin</th>\n",
       "      <th>Make</th>\n",
       "    </tr>\n",
       "  </thead>\n",
       "  <tbody>\n",
       "    <tr>\n",
       "      <th>count</th>\n",
       "      <td>92</td>\n",
       "      <td>92</td>\n",
       "      <td>92</td>\n",
       "      <td>92.000000</td>\n",
       "      <td>92.000000</td>\n",
       "      <td>92.000000</td>\n",
       "      <td>92.000000</td>\n",
       "      <td>92.000000</td>\n",
       "      <td>92</td>\n",
       "      <td>92</td>\n",
       "      <td>...</td>\n",
       "      <td>92.000000</td>\n",
       "      <td>92.000000</td>\n",
       "      <td>92.000000</td>\n",
       "      <td>92.000000</td>\n",
       "      <td>92.000000</td>\n",
       "      <td>90.000000</td>\n",
       "      <td>81.000000</td>\n",
       "      <td>92.000000</td>\n",
       "      <td>92</td>\n",
       "      <td>92</td>\n",
       "    </tr>\n",
       "    <tr>\n",
       "      <th>unique</th>\n",
       "      <td>32</td>\n",
       "      <td>92</td>\n",
       "      <td>6</td>\n",
       "      <td>NaN</td>\n",
       "      <td>NaN</td>\n",
       "      <td>NaN</td>\n",
       "      <td>NaN</td>\n",
       "      <td>NaN</td>\n",
       "      <td>3</td>\n",
       "      <td>3</td>\n",
       "      <td>...</td>\n",
       "      <td>NaN</td>\n",
       "      <td>NaN</td>\n",
       "      <td>NaN</td>\n",
       "      <td>NaN</td>\n",
       "      <td>NaN</td>\n",
       "      <td>NaN</td>\n",
       "      <td>NaN</td>\n",
       "      <td>NaN</td>\n",
       "      <td>2</td>\n",
       "      <td>92</td>\n",
       "    </tr>\n",
       "    <tr>\n",
       "      <th>top</th>\n",
       "      <td>Chevrolet</td>\n",
       "      <td>Quest</td>\n",
       "      <td>Midsize</td>\n",
       "      <td>NaN</td>\n",
       "      <td>NaN</td>\n",
       "      <td>NaN</td>\n",
       "      <td>NaN</td>\n",
       "      <td>NaN</td>\n",
       "      <td>Driver only</td>\n",
       "      <td>Front</td>\n",
       "      <td>...</td>\n",
       "      <td>NaN</td>\n",
       "      <td>NaN</td>\n",
       "      <td>NaN</td>\n",
       "      <td>NaN</td>\n",
       "      <td>NaN</td>\n",
       "      <td>NaN</td>\n",
       "      <td>NaN</td>\n",
       "      <td>NaN</td>\n",
       "      <td>USA</td>\n",
       "      <td>Geo Storm</td>\n",
       "    </tr>\n",
       "    <tr>\n",
       "      <th>freq</th>\n",
       "      <td>8</td>\n",
       "      <td>1</td>\n",
       "      <td>21</td>\n",
       "      <td>NaN</td>\n",
       "      <td>NaN</td>\n",
       "      <td>NaN</td>\n",
       "      <td>NaN</td>\n",
       "      <td>NaN</td>\n",
       "      <td>43</td>\n",
       "      <td>67</td>\n",
       "      <td>...</td>\n",
       "      <td>NaN</td>\n",
       "      <td>NaN</td>\n",
       "      <td>NaN</td>\n",
       "      <td>NaN</td>\n",
       "      <td>NaN</td>\n",
       "      <td>NaN</td>\n",
       "      <td>NaN</td>\n",
       "      <td>NaN</td>\n",
       "      <td>48</td>\n",
       "      <td>1</td>\n",
       "    </tr>\n",
       "    <tr>\n",
       "      <th>mean</th>\n",
       "      <td>NaN</td>\n",
       "      <td>NaN</td>\n",
       "      <td>NaN</td>\n",
       "      <td>16.835870</td>\n",
       "      <td>19.048913</td>\n",
       "      <td>21.267391</td>\n",
       "      <td>22.402174</td>\n",
       "      <td>29.130435</td>\n",
       "      <td>NaN</td>\n",
       "      <td>NaN</td>\n",
       "      <td>...</td>\n",
       "      <td>5.086957</td>\n",
       "      <td>183.163043</td>\n",
       "      <td>103.880435</td>\n",
       "      <td>69.380435</td>\n",
       "      <td>38.978261</td>\n",
       "      <td>27.838889</td>\n",
       "      <td>13.876543</td>\n",
       "      <td>3067.989130</td>\n",
       "      <td>NaN</td>\n",
       "      <td>NaN</td>\n",
       "    </tr>\n",
       "    <tr>\n",
       "      <th>std</th>\n",
       "      <td>NaN</td>\n",
       "      <td>NaN</td>\n",
       "      <td>NaN</td>\n",
       "      <td>8.332455</td>\n",
       "      <td>8.623728</td>\n",
       "      <td>9.247098</td>\n",
       "      <td>5.639460</td>\n",
       "      <td>5.343616</td>\n",
       "      <td>NaN</td>\n",
       "      <td>NaN</td>\n",
       "      <td>...</td>\n",
       "      <td>1.044632</td>\n",
       "      <td>14.676944</td>\n",
       "      <td>6.827292</td>\n",
       "      <td>3.799486</td>\n",
       "      <td>3.234356</td>\n",
       "      <td>3.004517</td>\n",
       "      <td>3.014062</td>\n",
       "      <td>591.211765</td>\n",
       "      <td>NaN</td>\n",
       "      <td>NaN</td>\n",
       "    </tr>\n",
       "    <tr>\n",
       "      <th>min</th>\n",
       "      <td>NaN</td>\n",
       "      <td>NaN</td>\n",
       "      <td>NaN</td>\n",
       "      <td>6.700000</td>\n",
       "      <td>7.400000</td>\n",
       "      <td>7.900000</td>\n",
       "      <td>15.000000</td>\n",
       "      <td>20.000000</td>\n",
       "      <td>NaN</td>\n",
       "      <td>NaN</td>\n",
       "      <td>...</td>\n",
       "      <td>2.000000</td>\n",
       "      <td>141.000000</td>\n",
       "      <td>90.000000</td>\n",
       "      <td>60.000000</td>\n",
       "      <td>32.000000</td>\n",
       "      <td>19.000000</td>\n",
       "      <td>6.000000</td>\n",
       "      <td>1695.000000</td>\n",
       "      <td>NaN</td>\n",
       "      <td>NaN</td>\n",
       "    </tr>\n",
       "    <tr>\n",
       "      <th>25%</th>\n",
       "      <td>NaN</td>\n",
       "      <td>NaN</td>\n",
       "      <td>NaN</td>\n",
       "      <td>10.725000</td>\n",
       "      <td>12.175000</td>\n",
       "      <td>14.575000</td>\n",
       "      <td>18.000000</td>\n",
       "      <td>26.000000</td>\n",
       "      <td>NaN</td>\n",
       "      <td>NaN</td>\n",
       "      <td>...</td>\n",
       "      <td>4.000000</td>\n",
       "      <td>174.000000</td>\n",
       "      <td>98.000000</td>\n",
       "      <td>67.000000</td>\n",
       "      <td>36.750000</td>\n",
       "      <td>26.000000</td>\n",
       "      <td>12.000000</td>\n",
       "      <td>2608.750000</td>\n",
       "      <td>NaN</td>\n",
       "      <td>NaN</td>\n",
       "    </tr>\n",
       "    <tr>\n",
       "      <th>50%</th>\n",
       "      <td>NaN</td>\n",
       "      <td>NaN</td>\n",
       "      <td>NaN</td>\n",
       "      <td>14.600000</td>\n",
       "      <td>17.600000</td>\n",
       "      <td>19.550000</td>\n",
       "      <td>21.000000</td>\n",
       "      <td>28.000000</td>\n",
       "      <td>NaN</td>\n",
       "      <td>NaN</td>\n",
       "      <td>...</td>\n",
       "      <td>5.000000</td>\n",
       "      <td>182.500000</td>\n",
       "      <td>103.000000</td>\n",
       "      <td>69.000000</td>\n",
       "      <td>39.000000</td>\n",
       "      <td>27.500000</td>\n",
       "      <td>14.000000</td>\n",
       "      <td>3035.000000</td>\n",
       "      <td>NaN</td>\n",
       "      <td>NaN</td>\n",
       "    </tr>\n",
       "    <tr>\n",
       "      <th>75%</th>\n",
       "      <td>NaN</td>\n",
       "      <td>NaN</td>\n",
       "      <td>NaN</td>\n",
       "      <td>20.150000</td>\n",
       "      <td>22.850000</td>\n",
       "      <td>25.000000</td>\n",
       "      <td>25.000000</td>\n",
       "      <td>31.000000</td>\n",
       "      <td>NaN</td>\n",
       "      <td>NaN</td>\n",
       "      <td>...</td>\n",
       "      <td>6.000000</td>\n",
       "      <td>192.250000</td>\n",
       "      <td>110.000000</td>\n",
       "      <td>72.000000</td>\n",
       "      <td>41.250000</td>\n",
       "      <td>30.000000</td>\n",
       "      <td>15.000000</td>\n",
       "      <td>3526.250000</td>\n",
       "      <td>NaN</td>\n",
       "      <td>NaN</td>\n",
       "    </tr>\n",
       "    <tr>\n",
       "      <th>max</th>\n",
       "      <td>NaN</td>\n",
       "      <td>NaN</td>\n",
       "      <td>NaN</td>\n",
       "      <td>45.400000</td>\n",
       "      <td>47.900000</td>\n",
       "      <td>50.400000</td>\n",
       "      <td>46.000000</td>\n",
       "      <td>50.000000</td>\n",
       "      <td>NaN</td>\n",
       "      <td>NaN</td>\n",
       "      <td>...</td>\n",
       "      <td>8.000000</td>\n",
       "      <td>219.000000</td>\n",
       "      <td>119.000000</td>\n",
       "      <td>78.000000</td>\n",
       "      <td>45.000000</td>\n",
       "      <td>36.000000</td>\n",
       "      <td>22.000000</td>\n",
       "      <td>4105.000000</td>\n",
       "      <td>NaN</td>\n",
       "      <td>NaN</td>\n",
       "    </tr>\n",
       "  </tbody>\n",
       "</table>\n",
       "<p>11 rows × 27 columns</p>\n",
       "</div>"
      ],
      "text/plain": [
       "       Manufacturer  Model     Type  Min.Price      Price  Max.Price  \\\n",
       "count            92     92       92  92.000000  92.000000  92.000000   \n",
       "unique           32     92        6        NaN        NaN        NaN   \n",
       "top       Chevrolet  Quest  Midsize        NaN        NaN        NaN   \n",
       "freq              8      1       21        NaN        NaN        NaN   \n",
       "mean            NaN    NaN      NaN  16.835870  19.048913  21.267391   \n",
       "std             NaN    NaN      NaN   8.332455   8.623728   9.247098   \n",
       "min             NaN    NaN      NaN   6.700000   7.400000   7.900000   \n",
       "25%             NaN    NaN      NaN  10.725000  12.175000  14.575000   \n",
       "50%             NaN    NaN      NaN  14.600000  17.600000  19.550000   \n",
       "75%             NaN    NaN      NaN  20.150000  22.850000  25.000000   \n",
       "max             NaN    NaN      NaN  45.400000  47.900000  50.400000   \n",
       "\n",
       "         MPG.city  MPG.highway      AirBags DriveTrain  ... Passengers  \\\n",
       "count   92.000000    92.000000           92         92  ...  92.000000   \n",
       "unique        NaN          NaN            3          3  ...        NaN   \n",
       "top           NaN          NaN  Driver only      Front  ...        NaN   \n",
       "freq          NaN          NaN           43         67  ...        NaN   \n",
       "mean    22.402174    29.130435          NaN        NaN  ...   5.086957   \n",
       "std      5.639460     5.343616          NaN        NaN  ...   1.044632   \n",
       "min     15.000000    20.000000          NaN        NaN  ...   2.000000   \n",
       "25%     18.000000    26.000000          NaN        NaN  ...   4.000000   \n",
       "50%     21.000000    28.000000          NaN        NaN  ...   5.000000   \n",
       "75%     25.000000    31.000000          NaN        NaN  ...   6.000000   \n",
       "max     46.000000    50.000000          NaN        NaN  ...   8.000000   \n",
       "\n",
       "            Length   Wheelbase      Width  Turn.circle Rear.seat.room  \\\n",
       "count    92.000000   92.000000  92.000000    92.000000      90.000000   \n",
       "unique         NaN         NaN        NaN          NaN            NaN   \n",
       "top            NaN         NaN        NaN          NaN            NaN   \n",
       "freq           NaN         NaN        NaN          NaN            NaN   \n",
       "mean    183.163043  103.880435  69.380435    38.978261      27.838889   \n",
       "std      14.676944    6.827292   3.799486     3.234356       3.004517   \n",
       "min     141.000000   90.000000  60.000000    32.000000      19.000000   \n",
       "25%     174.000000   98.000000  67.000000    36.750000      26.000000   \n",
       "50%     182.500000  103.000000  69.000000    39.000000      27.500000   \n",
       "75%     192.250000  110.000000  72.000000    41.250000      30.000000   \n",
       "max     219.000000  119.000000  78.000000    45.000000      36.000000   \n",
       "\n",
       "        Luggage.room       Weight  Origin       Make  \n",
       "count      81.000000    92.000000      92         92  \n",
       "unique           NaN          NaN       2         92  \n",
       "top              NaN          NaN     USA  Geo Storm  \n",
       "freq             NaN          NaN      48          1  \n",
       "mean       13.876543  3067.989130     NaN        NaN  \n",
       "std         3.014062   591.211765     NaN        NaN  \n",
       "min         6.000000  1695.000000     NaN        NaN  \n",
       "25%        12.000000  2608.750000     NaN        NaN  \n",
       "50%        14.000000  3035.000000     NaN        NaN  \n",
       "75%        15.000000  3526.250000     NaN        NaN  \n",
       "max        22.000000  4105.000000     NaN        NaN  \n",
       "\n",
       "[11 rows x 27 columns]"
      ]
     },
     "execution_count": 8,
     "metadata": {},
     "output_type": "execute_result"
    }
   ],
   "source": [
    "cars_data.describe(include='all')"
   ]
  },
  {
   "cell_type": "markdown",
   "metadata": {},
   "source": [
    "#### Filtering the dataframe"
   ]
  },
  {
   "cell_type": "code",
   "execution_count": 9,
   "metadata": {},
   "outputs": [
    {
     "data": {
      "text/plain": [
       "array(['Acura', 'Audi', 'BMW', 'Buick', 'Cadillac', 'Chevrolet',\n",
       "       'Chrylser', 'Chrysler', 'Dodge', 'Eagle', 'Ford', 'Geo', 'Honda',\n",
       "       'Hyundai', 'Infiniti', 'Lexus', 'Lincoln', 'Mazda',\n",
       "       'Mercedes-Benz', 'Mercury', 'Mitsubishi', 'Nissan', 'Oldsmobile',\n",
       "       'Plymouth', 'Pontiac', 'Saab', 'Saturn', 'Subaru', 'Suzuki',\n",
       "       'Toyota', 'Volkswagen', 'Volvo'], dtype=object)"
      ]
     },
     "execution_count": 9,
     "metadata": {},
     "output_type": "execute_result"
    }
   ],
   "source": [
    "np.unique(cars_data['Manufacturer'])"
   ]
  },
  {
   "cell_type": "code",
   "execution_count": 10,
   "metadata": {},
   "outputs": [
    {
     "data": {
      "text/html": [
       "<div>\n",
       "<style scoped>\n",
       "    .dataframe tbody tr th:only-of-type {\n",
       "        vertical-align: middle;\n",
       "    }\n",
       "\n",
       "    .dataframe tbody tr th {\n",
       "        vertical-align: top;\n",
       "    }\n",
       "\n",
       "    .dataframe thead th {\n",
       "        text-align: right;\n",
       "    }\n",
       "</style>\n",
       "<table border=\"1\" class=\"dataframe\">\n",
       "  <thead>\n",
       "    <tr style=\"text-align: right;\">\n",
       "      <th></th>\n",
       "      <th>Manufacturer</th>\n",
       "      <th>Model</th>\n",
       "      <th>MPG.city</th>\n",
       "    </tr>\n",
       "  </thead>\n",
       "  <tbody>\n",
       "    <tr>\n",
       "      <th>0</th>\n",
       "      <td>Ford</td>\n",
       "      <td>Festiva</td>\n",
       "      <td>31</td>\n",
       "    </tr>\n",
       "    <tr>\n",
       "      <th>1</th>\n",
       "      <td>Hyundai</td>\n",
       "      <td>Excel</td>\n",
       "      <td>29</td>\n",
       "    </tr>\n",
       "    <tr>\n",
       "      <th>2</th>\n",
       "      <td>Mazda</td>\n",
       "      <td>323</td>\n",
       "      <td>29</td>\n",
       "    </tr>\n",
       "    <tr>\n",
       "      <th>3</th>\n",
       "      <td>Geo</td>\n",
       "      <td>Metro</td>\n",
       "      <td>46</td>\n",
       "    </tr>\n",
       "    <tr>\n",
       "      <th>4</th>\n",
       "      <td>Subaru</td>\n",
       "      <td>Justy</td>\n",
       "      <td>33</td>\n",
       "    </tr>\n",
       "  </tbody>\n",
       "</table>\n",
       "</div>"
      ],
      "text/plain": [
       "  Manufacturer    Model  MPG.city\n",
       "0         Ford  Festiva        31\n",
       "1      Hyundai    Excel        29\n",
       "2        Mazda      323        29\n",
       "3          Geo    Metro        46\n",
       "4       Subaru    Justy        33"
      ]
     },
     "execution_count": 10,
     "metadata": {},
     "output_type": "execute_result"
    }
   ],
   "source": [
    "cars_data[['Manufacturer', 'Model', 'MPG.city']].head()"
   ]
  },
  {
   "cell_type": "markdown",
   "metadata": {},
   "source": [
    "#### Filter the dataframe\n",
    "You only want to consider cars with an average price of less than 40k"
   ]
  },
  {
   "cell_type": "code",
   "execution_count": 12,
   "metadata": {},
   "outputs": [
    {
     "data": {
      "text/plain": [
       "(86, 27)"
      ]
     },
     "execution_count": 12,
     "metadata": {},
     "output_type": "execute_result"
    }
   ],
   "source": [
    "cars_under_35 = cars_data[cars_data['Price'] <= 35]\n",
    "\n",
    "cars_under_35.shape"
   ]
  },
  {
   "cell_type": "code",
   "execution_count": 15,
   "metadata": {},
   "outputs": [
    {
     "data": {
      "text/html": [
       "<div>\n",
       "<style scoped>\n",
       "    .dataframe tbody tr th:only-of-type {\n",
       "        vertical-align: middle;\n",
       "    }\n",
       "\n",
       "    .dataframe tbody tr th {\n",
       "        vertical-align: top;\n",
       "    }\n",
       "\n",
       "    .dataframe thead th {\n",
       "        text-align: right;\n",
       "    }\n",
       "</style>\n",
       "<table border=\"1\" class=\"dataframe\">\n",
       "  <thead>\n",
       "    <tr style=\"text-align: right;\">\n",
       "      <th></th>\n",
       "      <th>Manufacturer</th>\n",
       "      <th>Model</th>\n",
       "      <th>Type</th>\n",
       "      <th>Min.Price</th>\n",
       "      <th>Price</th>\n",
       "      <th>Max.Price</th>\n",
       "      <th>MPG.city</th>\n",
       "      <th>MPG.highway</th>\n",
       "      <th>AirBags</th>\n",
       "      <th>DriveTrain</th>\n",
       "      <th>...</th>\n",
       "      <th>Passengers</th>\n",
       "      <th>Length</th>\n",
       "      <th>Wheelbase</th>\n",
       "      <th>Width</th>\n",
       "      <th>Turn.circle</th>\n",
       "      <th>Rear.seat.room</th>\n",
       "      <th>Luggage.room</th>\n",
       "      <th>Weight</th>\n",
       "      <th>Origin</th>\n",
       "      <th>Make</th>\n",
       "    </tr>\n",
       "  </thead>\n",
       "  <tbody>\n",
       "    <tr>\n",
       "      <th>0</th>\n",
       "      <td>Ford</td>\n",
       "      <td>Festiva</td>\n",
       "      <td>Small</td>\n",
       "      <td>6.9</td>\n",
       "      <td>7.4</td>\n",
       "      <td>7.9</td>\n",
       "      <td>31</td>\n",
       "      <td>33</td>\n",
       "      <td>None</td>\n",
       "      <td>Front</td>\n",
       "      <td>...</td>\n",
       "      <td>4</td>\n",
       "      <td>141</td>\n",
       "      <td>90</td>\n",
       "      <td>63</td>\n",
       "      <td>33</td>\n",
       "      <td>26.0</td>\n",
       "      <td>12.0</td>\n",
       "      <td>1845</td>\n",
       "      <td>USA</td>\n",
       "      <td>Ford Festiva</td>\n",
       "    </tr>\n",
       "    <tr>\n",
       "      <th>1</th>\n",
       "      <td>Hyundai</td>\n",
       "      <td>Excel</td>\n",
       "      <td>Small</td>\n",
       "      <td>6.8</td>\n",
       "      <td>8.0</td>\n",
       "      <td>9.2</td>\n",
       "      <td>29</td>\n",
       "      <td>33</td>\n",
       "      <td>None</td>\n",
       "      <td>Front</td>\n",
       "      <td>...</td>\n",
       "      <td>5</td>\n",
       "      <td>168</td>\n",
       "      <td>94</td>\n",
       "      <td>63</td>\n",
       "      <td>35</td>\n",
       "      <td>26.0</td>\n",
       "      <td>11.0</td>\n",
       "      <td>2345</td>\n",
       "      <td>non-USA</td>\n",
       "      <td>Hyundai Excel</td>\n",
       "    </tr>\n",
       "    <tr>\n",
       "      <th>2</th>\n",
       "      <td>Mazda</td>\n",
       "      <td>323</td>\n",
       "      <td>Small</td>\n",
       "      <td>7.4</td>\n",
       "      <td>8.3</td>\n",
       "      <td>9.1</td>\n",
       "      <td>29</td>\n",
       "      <td>37</td>\n",
       "      <td>None</td>\n",
       "      <td>Front</td>\n",
       "      <td>...</td>\n",
       "      <td>4</td>\n",
       "      <td>164</td>\n",
       "      <td>97</td>\n",
       "      <td>66</td>\n",
       "      <td>34</td>\n",
       "      <td>27.0</td>\n",
       "      <td>16.0</td>\n",
       "      <td>2325</td>\n",
       "      <td>non-USA</td>\n",
       "      <td>Mazda 323</td>\n",
       "    </tr>\n",
       "    <tr>\n",
       "      <th>3</th>\n",
       "      <td>Geo</td>\n",
       "      <td>Metro</td>\n",
       "      <td>Small</td>\n",
       "      <td>6.7</td>\n",
       "      <td>8.4</td>\n",
       "      <td>10.0</td>\n",
       "      <td>46</td>\n",
       "      <td>50</td>\n",
       "      <td>None</td>\n",
       "      <td>Front</td>\n",
       "      <td>...</td>\n",
       "      <td>4</td>\n",
       "      <td>151</td>\n",
       "      <td>93</td>\n",
       "      <td>63</td>\n",
       "      <td>34</td>\n",
       "      <td>27.5</td>\n",
       "      <td>10.0</td>\n",
       "      <td>1695</td>\n",
       "      <td>non-USA</td>\n",
       "      <td>Geo Metro</td>\n",
       "    </tr>\n",
       "    <tr>\n",
       "      <th>4</th>\n",
       "      <td>Subaru</td>\n",
       "      <td>Justy</td>\n",
       "      <td>Small</td>\n",
       "      <td>7.3</td>\n",
       "      <td>8.4</td>\n",
       "      <td>9.5</td>\n",
       "      <td>33</td>\n",
       "      <td>37</td>\n",
       "      <td>None</td>\n",
       "      <td>4WD</td>\n",
       "      <td>...</td>\n",
       "      <td>4</td>\n",
       "      <td>146</td>\n",
       "      <td>90</td>\n",
       "      <td>60</td>\n",
       "      <td>32</td>\n",
       "      <td>23.5</td>\n",
       "      <td>10.0</td>\n",
       "      <td>2045</td>\n",
       "      <td>non-USA</td>\n",
       "      <td>Subaru Justy</td>\n",
       "    </tr>\n",
       "  </tbody>\n",
       "</table>\n",
       "<p>5 rows × 27 columns</p>\n",
       "</div>"
      ],
      "text/plain": [
       "  Manufacturer    Model   Type  Min.Price  Price  Max.Price  MPG.city  \\\n",
       "0         Ford  Festiva  Small        6.9    7.4        7.9        31   \n",
       "1      Hyundai    Excel  Small        6.8    8.0        9.2        29   \n",
       "2        Mazda      323  Small        7.4    8.3        9.1        29   \n",
       "3          Geo    Metro  Small        6.7    8.4       10.0        46   \n",
       "4       Subaru    Justy  Small        7.3    8.4        9.5        33   \n",
       "\n",
       "   MPG.highway AirBags DriveTrain  ... Passengers  Length  Wheelbase  Width  \\\n",
       "0           33    None      Front  ...          4     141         90     63   \n",
       "1           33    None      Front  ...          5     168         94     63   \n",
       "2           37    None      Front  ...          4     164         97     66   \n",
       "3           50    None      Front  ...          4     151         93     63   \n",
       "4           37    None        4WD  ...          4     146         90     60   \n",
       "\n",
       "   Turn.circle Rear.seat.room  Luggage.room  Weight   Origin           Make  \n",
       "0           33           26.0          12.0    1845      USA   Ford Festiva  \n",
       "1           35           26.0          11.0    2345  non-USA  Hyundai Excel  \n",
       "2           34           27.0          16.0    2325  non-USA      Mazda 323  \n",
       "3           34           27.5          10.0    1695  non-USA      Geo Metro  \n",
       "4           32           23.5          10.0    2045  non-USA   Subaru Justy  \n",
       "\n",
       "[5 rows x 27 columns]"
      ]
     },
     "execution_count": 15,
     "metadata": {},
     "output_type": "execute_result"
    }
   ],
   "source": [
    "cars_under_35.head(5)"
   ]
  },
  {
   "cell_type": "code",
   "execution_count": 16,
   "metadata": {},
   "outputs": [
    {
     "data": {
      "text/html": [
       "<div>\n",
       "<style scoped>\n",
       "    .dataframe tbody tr th:only-of-type {\n",
       "        vertical-align: middle;\n",
       "    }\n",
       "\n",
       "    .dataframe tbody tr th {\n",
       "        vertical-align: top;\n",
       "    }\n",
       "\n",
       "    .dataframe thead th {\n",
       "        text-align: right;\n",
       "    }\n",
       "</style>\n",
       "<table border=\"1\" class=\"dataframe\">\n",
       "  <thead>\n",
       "    <tr style=\"text-align: right;\">\n",
       "      <th></th>\n",
       "      <th>Manufacturer</th>\n",
       "      <th>Model</th>\n",
       "      <th>Type</th>\n",
       "      <th>Min.Price</th>\n",
       "      <th>Price</th>\n",
       "      <th>Max.Price</th>\n",
       "      <th>MPG.city</th>\n",
       "      <th>MPG.highway</th>\n",
       "      <th>AirBags</th>\n",
       "      <th>DriveTrain</th>\n",
       "      <th>...</th>\n",
       "      <th>Passengers</th>\n",
       "      <th>Length</th>\n",
       "      <th>Wheelbase</th>\n",
       "      <th>Width</th>\n",
       "      <th>Turn.circle</th>\n",
       "      <th>Rear.seat.room</th>\n",
       "      <th>Luggage.room</th>\n",
       "      <th>Weight</th>\n",
       "      <th>Origin</th>\n",
       "      <th>Make</th>\n",
       "    </tr>\n",
       "  </thead>\n",
       "  <tbody>\n",
       "    <tr>\n",
       "      <th>12</th>\n",
       "      <td>Ford</td>\n",
       "      <td>Escort</td>\n",
       "      <td>Small</td>\n",
       "      <td>8.4</td>\n",
       "      <td>10.1</td>\n",
       "      <td>11.9</td>\n",
       "      <td>23</td>\n",
       "      <td>30</td>\n",
       "      <td>None</td>\n",
       "      <td>Front</td>\n",
       "      <td>...</td>\n",
       "      <td>5</td>\n",
       "      <td>171</td>\n",
       "      <td>98</td>\n",
       "      <td>67</td>\n",
       "      <td>36</td>\n",
       "      <td>28.0</td>\n",
       "      <td>12.0</td>\n",
       "      <td>2530</td>\n",
       "      <td>USA</td>\n",
       "      <td>Ford Escort</td>\n",
       "    </tr>\n",
       "    <tr>\n",
       "      <th>19</th>\n",
       "      <td>Chevrolet</td>\n",
       "      <td>Corsica</td>\n",
       "      <td>Compact</td>\n",
       "      <td>11.4</td>\n",
       "      <td>11.4</td>\n",
       "      <td>11.4</td>\n",
       "      <td>25</td>\n",
       "      <td>34</td>\n",
       "      <td>Driver only</td>\n",
       "      <td>Front</td>\n",
       "      <td>...</td>\n",
       "      <td>5</td>\n",
       "      <td>184</td>\n",
       "      <td>103</td>\n",
       "      <td>68</td>\n",
       "      <td>39</td>\n",
       "      <td>26.0</td>\n",
       "      <td>14.0</td>\n",
       "      <td>2785</td>\n",
       "      <td>USA</td>\n",
       "      <td>Chevrolet Corsica</td>\n",
       "    </tr>\n",
       "    <tr>\n",
       "      <th>47</th>\n",
       "      <td>Toyota</td>\n",
       "      <td>Camry</td>\n",
       "      <td>Midsize</td>\n",
       "      <td>15.2</td>\n",
       "      <td>18.2</td>\n",
       "      <td>21.2</td>\n",
       "      <td>22</td>\n",
       "      <td>29</td>\n",
       "      <td>Driver only</td>\n",
       "      <td>Front</td>\n",
       "      <td>...</td>\n",
       "      <td>5</td>\n",
       "      <td>188</td>\n",
       "      <td>103</td>\n",
       "      <td>70</td>\n",
       "      <td>38</td>\n",
       "      <td>28.5</td>\n",
       "      <td>15.0</td>\n",
       "      <td>3030</td>\n",
       "      <td>non-USA</td>\n",
       "      <td>Toyota Camry</td>\n",
       "    </tr>\n",
       "  </tbody>\n",
       "</table>\n",
       "<p>3 rows × 27 columns</p>\n",
       "</div>"
      ],
      "text/plain": [
       "   Manufacturer    Model     Type  Min.Price  Price  Max.Price  MPG.city  \\\n",
       "12         Ford   Escort    Small        8.4   10.1       11.9        23   \n",
       "19    Chevrolet  Corsica  Compact       11.4   11.4       11.4        25   \n",
       "47       Toyota    Camry  Midsize       15.2   18.2       21.2        22   \n",
       "\n",
       "    MPG.highway      AirBags DriveTrain  ... Passengers  Length  Wheelbase  \\\n",
       "12           30         None      Front  ...          5     171         98   \n",
       "19           34  Driver only      Front  ...          5     184        103   \n",
       "47           29  Driver only      Front  ...          5     188        103   \n",
       "\n",
       "    Width  Turn.circle Rear.seat.room  Luggage.room  Weight   Origin  \\\n",
       "12     67           36           28.0          12.0    2530      USA   \n",
       "19     68           39           26.0          14.0    2785      USA   \n",
       "47     70           38           28.5          15.0    3030  non-USA   \n",
       "\n",
       "                 Make  \n",
       "12        Ford Escort  \n",
       "19  Chevrolet Corsica  \n",
       "47       Toyota Camry  \n",
       "\n",
       "[3 rows x 27 columns]"
      ]
     },
     "execution_count": 16,
     "metadata": {},
     "output_type": "execute_result"
    }
   ],
   "source": [
    "cars_data.iloc[[12, 19, 47]]"
   ]
  },
  {
   "cell_type": "markdown",
   "metadata": {},
   "source": [
    "### Checking for missing data\n",
    "Many datasets in the real world will contain missing values, represented as blanks, NaN values, question marks etc. "
   ]
  },
  {
   "cell_type": "markdown",
   "metadata": {},
   "source": [
    "#### The isnull() method\n",
    "Places a boolean value in each cell conveying wheter it represents a null value"
   ]
  },
  {
   "cell_type": "code",
   "execution_count": 17,
   "metadata": {},
   "outputs": [
    {
     "data": {
      "text/plain": [
       "Manufacturer          False\n",
       "Model                 False\n",
       "Type                  False\n",
       "Min.Price             False\n",
       "Price                 False\n",
       "Max.Price             False\n",
       "MPG.city              False\n",
       "MPG.highway           False\n",
       "AirBags               False\n",
       "DriveTrain            False\n",
       "Cylinders             False\n",
       "EngineSize            False\n",
       "Horsepower            False\n",
       "RPM                   False\n",
       "Rev.per.mile          False\n",
       "Man.trans.avail       False\n",
       "Fuel.tank.capacity    False\n",
       "Passengers            False\n",
       "Length                False\n",
       "Wheelbase             False\n",
       "Width                 False\n",
       "Turn.circle           False\n",
       "Rear.seat.room         True\n",
       "Luggage.room           True\n",
       "Weight                False\n",
       "Origin                False\n",
       "Make                  False\n",
       "dtype: bool"
      ]
     },
     "execution_count": 17,
     "metadata": {},
     "output_type": "execute_result"
    }
   ],
   "source": [
    "cars_data.isnull().any(axis=0)"
   ]
  },
  {
   "cell_type": "code",
   "execution_count": 18,
   "metadata": {},
   "outputs": [
    {
     "data": {
      "text/plain": [
       "Manufacturer           0\n",
       "Model                  0\n",
       "Type                   0\n",
       "Min.Price              0\n",
       "Price                  0\n",
       "Max.Price              0\n",
       "MPG.city               0\n",
       "MPG.highway            0\n",
       "AirBags                0\n",
       "DriveTrain             0\n",
       "Cylinders              0\n",
       "EngineSize             0\n",
       "Horsepower             0\n",
       "RPM                    0\n",
       "Rev.per.mile           0\n",
       "Man.trans.avail        0\n",
       "Fuel.tank.capacity     0\n",
       "Passengers             0\n",
       "Length                 0\n",
       "Wheelbase              0\n",
       "Width                  0\n",
       "Turn.circle            0\n",
       "Rear.seat.room         2\n",
       "Luggage.room          11\n",
       "Weight                 0\n",
       "Origin                 0\n",
       "Make                   0\n",
       "dtype: int64"
      ]
     },
     "execution_count": 18,
     "metadata": {},
     "output_type": "execute_result"
    }
   ],
   "source": [
    "cars_data.isnull().sum()"
   ]
  },
  {
   "cell_type": "code",
   "execution_count": 19,
   "metadata": {},
   "outputs": [
    {
     "data": {
      "text/plain": [
       "0     False\n",
       "1     False\n",
       "2     False\n",
       "3     False\n",
       "4     False\n",
       "      ...  \n",
       "87    False\n",
       "88    False\n",
       "89     True\n",
       "90    False\n",
       "91    False\n",
       "Length: 92, dtype: bool"
      ]
     },
     "execution_count": 19,
     "metadata": {},
     "output_type": "execute_result"
    }
   ],
   "source": [
    "cars_data.isnull().any(axis=1)"
   ]
  },
  {
   "cell_type": "code",
   "execution_count": 20,
   "metadata": {},
   "outputs": [
    {
     "data": {
      "text/plain": [
       "Manufacturer                        Audi\n",
       "Model                                100\n",
       "Type                             Midsize\n",
       "Min.Price                           30.8\n",
       "Price                               37.7\n",
       "Max.Price                           44.6\n",
       "MPG.city                              19\n",
       "MPG.highway                           26\n",
       "AirBags               Driver & Passenger\n",
       "DriveTrain                         Front\n",
       "Cylinders                              6\n",
       "EngineSize                           2.8\n",
       "Horsepower                           172\n",
       "RPM                                 5500\n",
       "Rev.per.mile                        2535\n",
       "Man.trans.avail                      Yes\n",
       "Fuel.tank.capacity                  21.1\n",
       "Passengers                             6\n",
       "Length                               193\n",
       "Wheelbase                            106\n",
       "Width                                 70\n",
       "Turn.circle                           37\n",
       "Rear.seat.room                        31\n",
       "Luggage.room                          17\n",
       "Weight                              3405\n",
       "Origin                           non-USA\n",
       "Make                            Audi 100\n",
       "Name: 88, dtype: object"
      ]
     },
     "execution_count": 20,
     "metadata": {},
     "output_type": "execute_result"
    }
   ],
   "source": [
    "cars_data.iloc[88]"
   ]
  },
  {
   "cell_type": "code",
   "execution_count": 21,
   "metadata": {},
   "outputs": [
    {
     "data": {
      "text/html": [
       "<div>\n",
       "<style scoped>\n",
       "    .dataframe tbody tr th:only-of-type {\n",
       "        vertical-align: middle;\n",
       "    }\n",
       "\n",
       "    .dataframe tbody tr th {\n",
       "        vertical-align: top;\n",
       "    }\n",
       "\n",
       "    .dataframe thead th {\n",
       "        text-align: right;\n",
       "    }\n",
       "</style>\n",
       "<table border=\"1\" class=\"dataframe\">\n",
       "  <thead>\n",
       "    <tr style=\"text-align: right;\">\n",
       "      <th></th>\n",
       "      <th>Manufacturer</th>\n",
       "      <th>Model</th>\n",
       "      <th>Rear.seat.room</th>\n",
       "      <th>Luggage.room</th>\n",
       "    </tr>\n",
       "  </thead>\n",
       "  <tbody>\n",
       "    <tr>\n",
       "      <th>41</th>\n",
       "      <td>Chevrolet</td>\n",
       "      <td>Lumina_APV</td>\n",
       "      <td>30.5</td>\n",
       "      <td>NaN</td>\n",
       "    </tr>\n",
       "    <tr>\n",
       "      <th>44</th>\n",
       "      <td>Chevrolet</td>\n",
       "      <td>Astro</td>\n",
       "      <td>33.5</td>\n",
       "      <td>NaN</td>\n",
       "    </tr>\n",
       "    <tr>\n",
       "      <th>52</th>\n",
       "      <td>Dodge</td>\n",
       "      <td>Caravan</td>\n",
       "      <td>26.5</td>\n",
       "      <td>NaN</td>\n",
       "    </tr>\n",
       "    <tr>\n",
       "      <th>53</th>\n",
       "      <td>Mazda</td>\n",
       "      <td>MPV</td>\n",
       "      <td>27.5</td>\n",
       "      <td>NaN</td>\n",
       "    </tr>\n",
       "    <tr>\n",
       "      <th>54</th>\n",
       "      <td>Nissan</td>\n",
       "      <td>Quest</td>\n",
       "      <td>27.0</td>\n",
       "      <td>NaN</td>\n",
       "    </tr>\n",
       "    <tr>\n",
       "      <th>56</th>\n",
       "      <td>Oldsmobile</td>\n",
       "      <td>Silhouette</td>\n",
       "      <td>30.5</td>\n",
       "      <td>NaN</td>\n",
       "    </tr>\n",
       "    <tr>\n",
       "      <th>58</th>\n",
       "      <td>Volkswagen</td>\n",
       "      <td>Eurovan</td>\n",
       "      <td>34.0</td>\n",
       "      <td>NaN</td>\n",
       "    </tr>\n",
       "    <tr>\n",
       "      <th>60</th>\n",
       "      <td>Ford</td>\n",
       "      <td>Aerostar</td>\n",
       "      <td>30.0</td>\n",
       "      <td>NaN</td>\n",
       "    </tr>\n",
       "    <tr>\n",
       "      <th>67</th>\n",
       "      <td>Toyota</td>\n",
       "      <td>Previa</td>\n",
       "      <td>35.0</td>\n",
       "      <td>NaN</td>\n",
       "    </tr>\n",
       "    <tr>\n",
       "      <th>82</th>\n",
       "      <td>Mazda</td>\n",
       "      <td>RX-7</td>\n",
       "      <td>NaN</td>\n",
       "      <td>NaN</td>\n",
       "    </tr>\n",
       "    <tr>\n",
       "      <th>89</th>\n",
       "      <td>Chevrolet</td>\n",
       "      <td>Corvette</td>\n",
       "      <td>NaN</td>\n",
       "      <td>NaN</td>\n",
       "    </tr>\n",
       "  </tbody>\n",
       "</table>\n",
       "</div>"
      ],
      "text/plain": [
       "   Manufacturer       Model  Rear.seat.room  Luggage.room\n",
       "41    Chevrolet  Lumina_APV            30.5           NaN\n",
       "44    Chevrolet       Astro            33.5           NaN\n",
       "52        Dodge     Caravan            26.5           NaN\n",
       "53        Mazda         MPV            27.5           NaN\n",
       "54       Nissan       Quest            27.0           NaN\n",
       "56   Oldsmobile  Silhouette            30.5           NaN\n",
       "58   Volkswagen     Eurovan            34.0           NaN\n",
       "60         Ford    Aerostar            30.0           NaN\n",
       "67       Toyota      Previa            35.0           NaN\n",
       "82        Mazda        RX-7             NaN           NaN\n",
       "89    Chevrolet    Corvette             NaN           NaN"
      ]
     },
     "execution_count": 21,
     "metadata": {},
     "output_type": "execute_result"
    }
   ],
   "source": [
    "cars_data_nulls = cars_data[cars_data.isnull().any(axis=1)]\n",
    "\n",
    "cars_data_nulls[['Manufacturer', 'Model', 'Rear.seat.room', 'Luggage.room']]"
   ]
  },
  {
   "cell_type": "code",
   "execution_count": 22,
   "metadata": {},
   "outputs": [
    {
     "data": {
      "text/plain": [
       "Int64Index([41, 44, 52, 53, 54, 56, 58, 60, 67, 82, 89], dtype='int64')"
      ]
     },
     "execution_count": 22,
     "metadata": {},
     "output_type": "execute_result"
    }
   ],
   "source": [
    "cars_data_nulls.index"
   ]
  },
  {
   "cell_type": "markdown",
   "metadata": {},
   "source": [
    "#### Filling NaN values\n",
    "\n",
    "Strategies include filling the values using imputation: <br />\n",
    "https://scikit-learn.org/stable/modules/impute.html\n",
    "\n",
    "Here, we use the backfill technique, where each null value is filled with the data from the next row in the dataset containing a non-null value for that column"
   ]
  },
  {
   "cell_type": "code",
   "execution_count": 23,
   "metadata": {},
   "outputs": [],
   "source": [
    "cars_data = cars_data.dropna()"
   ]
  },
  {
   "cell_type": "code",
   "execution_count": 24,
   "metadata": {},
   "outputs": [
    {
     "data": {
      "text/plain": [
       "(81, 27)"
      ]
     },
     "execution_count": 24,
     "metadata": {},
     "output_type": "execute_result"
    }
   ],
   "source": [
    "cars_data.shape"
   ]
  },
  {
   "cell_type": "markdown",
   "metadata": {},
   "source": [
    "#### Drop unwanted columns"
   ]
  },
  {
   "cell_type": "code",
   "execution_count": 25,
   "metadata": {},
   "outputs": [],
   "source": [
    "selected_columns = ['Manufacturer', 'Price', 'MPG.city',\n",
    "                    'DriveTrain', 'EngineSize', 'Horsepower', \n",
    "                    'Weight', 'Origin']"
   ]
  },
  {
   "cell_type": "code",
   "execution_count": 26,
   "metadata": {},
   "outputs": [
    {
     "data": {
      "text/plain": [
       "(81, 8)"
      ]
     },
     "execution_count": 26,
     "metadata": {},
     "output_type": "execute_result"
    }
   ],
   "source": [
    "cars_data = cars_data[selected_columns]\n",
    "\n",
    "cars_data.shape"
   ]
  },
  {
   "cell_type": "code",
   "execution_count": 27,
   "metadata": {},
   "outputs": [
    {
     "data": {
      "text/html": [
       "<div>\n",
       "<style scoped>\n",
       "    .dataframe tbody tr th:only-of-type {\n",
       "        vertical-align: middle;\n",
       "    }\n",
       "\n",
       "    .dataframe tbody tr th {\n",
       "        vertical-align: top;\n",
       "    }\n",
       "\n",
       "    .dataframe thead th {\n",
       "        text-align: right;\n",
       "    }\n",
       "</style>\n",
       "<table border=\"1\" class=\"dataframe\">\n",
       "  <thead>\n",
       "    <tr style=\"text-align: right;\">\n",
       "      <th></th>\n",
       "      <th>Manufacturer</th>\n",
       "      <th>Price</th>\n",
       "      <th>MPG.city</th>\n",
       "      <th>DriveTrain</th>\n",
       "      <th>EngineSize</th>\n",
       "      <th>Horsepower</th>\n",
       "      <th>Weight</th>\n",
       "      <th>Origin</th>\n",
       "    </tr>\n",
       "  </thead>\n",
       "  <tbody>\n",
       "    <tr>\n",
       "      <th>0</th>\n",
       "      <td>Ford</td>\n",
       "      <td>7.4</td>\n",
       "      <td>31</td>\n",
       "      <td>Front</td>\n",
       "      <td>1.3</td>\n",
       "      <td>63</td>\n",
       "      <td>1845</td>\n",
       "      <td>USA</td>\n",
       "    </tr>\n",
       "    <tr>\n",
       "      <th>1</th>\n",
       "      <td>Hyundai</td>\n",
       "      <td>8.0</td>\n",
       "      <td>29</td>\n",
       "      <td>Front</td>\n",
       "      <td>1.5</td>\n",
       "      <td>81</td>\n",
       "      <td>2345</td>\n",
       "      <td>non-USA</td>\n",
       "    </tr>\n",
       "    <tr>\n",
       "      <th>2</th>\n",
       "      <td>Mazda</td>\n",
       "      <td>8.3</td>\n",
       "      <td>29</td>\n",
       "      <td>Front</td>\n",
       "      <td>1.6</td>\n",
       "      <td>82</td>\n",
       "      <td>2325</td>\n",
       "      <td>non-USA</td>\n",
       "    </tr>\n",
       "    <tr>\n",
       "      <th>3</th>\n",
       "      <td>Geo</td>\n",
       "      <td>8.4</td>\n",
       "      <td>46</td>\n",
       "      <td>Front</td>\n",
       "      <td>1.0</td>\n",
       "      <td>55</td>\n",
       "      <td>1695</td>\n",
       "      <td>non-USA</td>\n",
       "    </tr>\n",
       "    <tr>\n",
       "      <th>4</th>\n",
       "      <td>Subaru</td>\n",
       "      <td>8.4</td>\n",
       "      <td>33</td>\n",
       "      <td>4WD</td>\n",
       "      <td>1.2</td>\n",
       "      <td>73</td>\n",
       "      <td>2045</td>\n",
       "      <td>non-USA</td>\n",
       "    </tr>\n",
       "  </tbody>\n",
       "</table>\n",
       "</div>"
      ],
      "text/plain": [
       "  Manufacturer  Price  MPG.city DriveTrain  EngineSize  Horsepower  Weight  \\\n",
       "0         Ford    7.4        31      Front         1.3          63    1845   \n",
       "1      Hyundai    8.0        29      Front         1.5          81    2345   \n",
       "2        Mazda    8.3        29      Front         1.6          82    2325   \n",
       "3          Geo    8.4        46      Front         1.0          55    1695   \n",
       "4       Subaru    8.4        33        4WD         1.2          73    2045   \n",
       "\n",
       "    Origin  \n",
       "0      USA  \n",
       "1  non-USA  \n",
       "2  non-USA  \n",
       "3  non-USA  \n",
       "4  non-USA  "
      ]
     },
     "execution_count": 27,
     "metadata": {},
     "output_type": "execute_result"
    }
   ],
   "source": [
    "cars_data.head()"
   ]
  },
  {
   "cell_type": "markdown",
   "metadata": {},
   "source": [
    "### Visualizing data using Matplotlib\n",
    "We plot a scatter plot to show the relationship between engine size and horsepower. Typically, bigger engines generate more power. Is this the case in our dataset?"
   ]
  },
  {
   "cell_type": "code",
   "execution_count": 28,
   "metadata": {},
   "outputs": [
    {
     "data": {
      "image/png": "[encoded data removed]",
      "text/plain": [
       "<Figure size 720x576 with 1 Axes>"
      ]
     },
     "metadata": {
      "needs_background": "light"
     },
     "output_type": "display_data"
    }
   ],
   "source": [
    "plt.figure(figsize=(10, 8))\n",
    "\n",
    "plt.scatter(cars_data['EngineSize'], \n",
    "            cars_data['Horsepower'])\n",
    "\n",
    "plt.title('Horsepower vs Engine Size')\n",
    "\n",
    "plt.xlabel('Engine Size (litres)')\n",
    "plt.ylabel('Horsepower (bhp)')\n",
    "\n",
    "plt.show()"
   ]
  },
  {
   "cell_type": "markdown",
   "metadata": {},
   "source": [
    "### Applying Label Encoder for categorical values\n",
    "https://scikit-learn.org/stable/modules/generated/sklearn.preprocessing.LabelEncoder.html"
   ]
  },
  {
   "cell_type": "code",
   "execution_count": 29,
   "metadata": {},
   "outputs": [
    {
     "data": {
      "text/plain": [
       "array(['USA', 'non-USA'], dtype=object)"
      ]
     },
     "execution_count": 29,
     "metadata": {},
     "output_type": "execute_result"
    }
   ],
   "source": [
    "cars_data['Origin'].unique()"
   ]
  },
  {
   "cell_type": "code",
   "execution_count": 30,
   "metadata": {},
   "outputs": [],
   "source": [
    "from sklearn.preprocessing import LabelEncoder \n",
    "\n",
    "label_encoder = LabelEncoder()"
   ]
  },
  {
   "cell_type": "code",
   "execution_count": 31,
   "metadata": {},
   "outputs": [],
   "source": [
    "cars_data['Origin'] = label_encoder.fit_transform(cars_data['Origin'])"
   ]
  },
  {
   "cell_type": "code",
   "execution_count": 32,
   "metadata": {},
   "outputs": [
    {
     "data": {
      "text/html": [
       "<div>\n",
       "<style scoped>\n",
       "    .dataframe tbody tr th:only-of-type {\n",
       "        vertical-align: middle;\n",
       "    }\n",
       "\n",
       "    .dataframe tbody tr th {\n",
       "        vertical-align: top;\n",
       "    }\n",
       "\n",
       "    .dataframe thead th {\n",
       "        text-align: right;\n",
       "    }\n",
       "</style>\n",
       "<table border=\"1\" class=\"dataframe\">\n",
       "  <thead>\n",
       "    <tr style=\"text-align: right;\">\n",
       "      <th></th>\n",
       "      <th>Manufacturer</th>\n",
       "      <th>Price</th>\n",
       "      <th>MPG.city</th>\n",
       "      <th>DriveTrain</th>\n",
       "      <th>EngineSize</th>\n",
       "      <th>Horsepower</th>\n",
       "      <th>Weight</th>\n",
       "      <th>Origin</th>\n",
       "    </tr>\n",
       "  </thead>\n",
       "  <tbody>\n",
       "    <tr>\n",
       "      <th>59</th>\n",
       "      <td>Honda</td>\n",
       "      <td>19.8</td>\n",
       "      <td>24</td>\n",
       "      <td>Front</td>\n",
       "      <td>2.3</td>\n",
       "      <td>160</td>\n",
       "      <td>2865</td>\n",
       "      <td>1</td>\n",
       "    </tr>\n",
       "    <tr>\n",
       "      <th>80</th>\n",
       "      <td>BMW</td>\n",
       "      <td>30.0</td>\n",
       "      <td>22</td>\n",
       "      <td>Rear</td>\n",
       "      <td>3.5</td>\n",
       "      <td>208</td>\n",
       "      <td>3640</td>\n",
       "      <td>1</td>\n",
       "    </tr>\n",
       "    <tr>\n",
       "      <th>14</th>\n",
       "      <td>Subaru</td>\n",
       "      <td>10.9</td>\n",
       "      <td>25</td>\n",
       "      <td>4WD</td>\n",
       "      <td>1.8</td>\n",
       "      <td>90</td>\n",
       "      <td>2490</td>\n",
       "      <td>1</td>\n",
       "    </tr>\n",
       "    <tr>\n",
       "      <th>4</th>\n",
       "      <td>Subaru</td>\n",
       "      <td>8.4</td>\n",
       "      <td>33</td>\n",
       "      <td>4WD</td>\n",
       "      <td>1.2</td>\n",
       "      <td>73</td>\n",
       "      <td>2045</td>\n",
       "      <td>1</td>\n",
       "    </tr>\n",
       "    <tr>\n",
       "      <th>48</th>\n",
       "      <td>Chrylser</td>\n",
       "      <td>18.4</td>\n",
       "      <td>20</td>\n",
       "      <td>Front</td>\n",
       "      <td>3.3</td>\n",
       "      <td>153</td>\n",
       "      <td>3515</td>\n",
       "      <td>0</td>\n",
       "    </tr>\n",
       "  </tbody>\n",
       "</table>\n",
       "</div>"
      ],
      "text/plain": [
       "   Manufacturer  Price  MPG.city DriveTrain  EngineSize  Horsepower  Weight  \\\n",
       "59        Honda   19.8        24      Front         2.3         160    2865   \n",
       "80          BMW   30.0        22       Rear         3.5         208    3640   \n",
       "14       Subaru   10.9        25        4WD         1.8          90    2490   \n",
       "4        Subaru    8.4        33        4WD         1.2          73    2045   \n",
       "48     Chrylser   18.4        20      Front         3.3         153    3515   \n",
       "\n",
       "    Origin  \n",
       "59       1  \n",
       "80       1  \n",
       "14       1  \n",
       "4        1  \n",
       "48       0  "
      ]
     },
     "execution_count": 32,
     "metadata": {},
     "output_type": "execute_result"
    }
   ],
   "source": [
    "cars_data.sample(5)"
   ]
  },
  {
   "cell_type": "markdown",
   "metadata": {},
   "source": [
    "### Checking categorical data"
   ]
  },
  {
   "cell_type": "code",
   "execution_count": 33,
   "metadata": {},
   "outputs": [],
   "source": [
    "categorical_feature = cars_data.dtypes == object"
   ]
  },
  {
   "cell_type": "code",
   "execution_count": 34,
   "metadata": {},
   "outputs": [
    {
     "data": {
      "text/plain": [
       "Manufacturer     True\n",
       "Price           False\n",
       "MPG.city        False\n",
       "DriveTrain       True\n",
       "EngineSize      False\n",
       "Horsepower      False\n",
       "Weight          False\n",
       "Origin          False\n",
       "dtype: bool"
      ]
     },
     "execution_count": 34,
     "metadata": {},
     "output_type": "execute_result"
    }
   ],
   "source": [
    "categorical_feature"
   ]
  },
  {
   "cell_type": "code",
   "execution_count": 35,
   "metadata": {},
   "outputs": [
    {
     "data": {
      "text/plain": [
       "['Manufacturer', 'DriveTrain']"
      ]
     },
     "execution_count": 35,
     "metadata": {},
     "output_type": "execute_result"
    }
   ],
   "source": [
    "categorical_col = cars_data.columns[categorical_feature].tolist()\n",
    "\n",
    "categorical_col"
   ]
  },
  {
   "cell_type": "markdown",
   "metadata": {},
   "source": [
    "### Appying one-hot-encoder\n",
    "https://scikit-learn.org/stable/modules/generated/sklearn.preprocessing.OneHotEncoder.html"
   ]
  },
  {
   "cell_type": "code",
   "execution_count": 36,
   "metadata": {},
   "outputs": [
    {
     "data": {
      "text/plain": [
       "array(['Front', '4WD', 'Rear'], dtype=object)"
      ]
     },
     "execution_count": 36,
     "metadata": {},
     "output_type": "execute_result"
    }
   ],
   "source": [
    "cars_data['DriveTrain'].unique()"
   ]
  },
  {
   "cell_type": "code",
   "execution_count": 37,
   "metadata": {},
   "outputs": [],
   "source": [
    "cars_data = pd.get_dummies(cars_data)"
   ]
  },
  {
   "cell_type": "markdown",
   "metadata": {},
   "source": [
    "#### Check the effect on the DriveTrain column\n",
    "You'll need to scroll to the right"
   ]
  },
  {
   "cell_type": "code",
   "execution_count": 38,
   "metadata": {},
   "outputs": [
    {
     "data": {
      "text/html": [
       "<div>\n",
       "<style scoped>\n",
       "    .dataframe tbody tr th:only-of-type {\n",
       "        vertical-align: middle;\n",
       "    }\n",
       "\n",
       "    .dataframe tbody tr th {\n",
       "        vertical-align: top;\n",
       "    }\n",
       "\n",
       "    .dataframe thead th {\n",
       "        text-align: right;\n",
       "    }\n",
       "</style>\n",
       "<table border=\"1\" class=\"dataframe\">\n",
       "  <thead>\n",
       "    <tr style=\"text-align: right;\">\n",
       "      <th></th>\n",
       "      <th>Price</th>\n",
       "      <th>MPG.city</th>\n",
       "      <th>EngineSize</th>\n",
       "      <th>Horsepower</th>\n",
       "      <th>Weight</th>\n",
       "      <th>Origin</th>\n",
       "      <th>Manufacturer_Acura</th>\n",
       "      <th>Manufacturer_Audi</th>\n",
       "      <th>Manufacturer_BMW</th>\n",
       "      <th>Manufacturer_Buick</th>\n",
       "      <th>...</th>\n",
       "      <th>Manufacturer_Saab</th>\n",
       "      <th>Manufacturer_Saturn</th>\n",
       "      <th>Manufacturer_Subaru</th>\n",
       "      <th>Manufacturer_Suzuki</th>\n",
       "      <th>Manufacturer_Toyota</th>\n",
       "      <th>Manufacturer_Volkswagen</th>\n",
       "      <th>Manufacturer_Volvo</th>\n",
       "      <th>DriveTrain_4WD</th>\n",
       "      <th>DriveTrain_Front</th>\n",
       "      <th>DriveTrain_Rear</th>\n",
       "    </tr>\n",
       "  </thead>\n",
       "  <tbody>\n",
       "    <tr>\n",
       "      <th>0</th>\n",
       "      <td>7.4</td>\n",
       "      <td>31</td>\n",
       "      <td>1.3</td>\n",
       "      <td>63</td>\n",
       "      <td>1845</td>\n",
       "      <td>0</td>\n",
       "      <td>0</td>\n",
       "      <td>0</td>\n",
       "      <td>0</td>\n",
       "      <td>0</td>\n",
       "      <td>...</td>\n",
       "      <td>0</td>\n",
       "      <td>0</td>\n",
       "      <td>0</td>\n",
       "      <td>0</td>\n",
       "      <td>0</td>\n",
       "      <td>0</td>\n",
       "      <td>0</td>\n",
       "      <td>0</td>\n",
       "      <td>1</td>\n",
       "      <td>0</td>\n",
       "    </tr>\n",
       "    <tr>\n",
       "      <th>1</th>\n",
       "      <td>8.0</td>\n",
       "      <td>29</td>\n",
       "      <td>1.5</td>\n",
       "      <td>81</td>\n",
       "      <td>2345</td>\n",
       "      <td>1</td>\n",
       "      <td>0</td>\n",
       "      <td>0</td>\n",
       "      <td>0</td>\n",
       "      <td>0</td>\n",
       "      <td>...</td>\n",
       "      <td>0</td>\n",
       "      <td>0</td>\n",
       "      <td>0</td>\n",
       "      <td>0</td>\n",
       "      <td>0</td>\n",
       "      <td>0</td>\n",
       "      <td>0</td>\n",
       "      <td>0</td>\n",
       "      <td>1</td>\n",
       "      <td>0</td>\n",
       "    </tr>\n",
       "    <tr>\n",
       "      <th>2</th>\n",
       "      <td>8.3</td>\n",
       "      <td>29</td>\n",
       "      <td>1.6</td>\n",
       "      <td>82</td>\n",
       "      <td>2325</td>\n",
       "      <td>1</td>\n",
       "      <td>0</td>\n",
       "      <td>0</td>\n",
       "      <td>0</td>\n",
       "      <td>0</td>\n",
       "      <td>...</td>\n",
       "      <td>0</td>\n",
       "      <td>0</td>\n",
       "      <td>0</td>\n",
       "      <td>0</td>\n",
       "      <td>0</td>\n",
       "      <td>0</td>\n",
       "      <td>0</td>\n",
       "      <td>0</td>\n",
       "      <td>1</td>\n",
       "      <td>0</td>\n",
       "    </tr>\n",
       "    <tr>\n",
       "      <th>3</th>\n",
       "      <td>8.4</td>\n",
       "      <td>46</td>\n",
       "      <td>1.0</td>\n",
       "      <td>55</td>\n",
       "      <td>1695</td>\n",
       "      <td>1</td>\n",
       "      <td>0</td>\n",
       "      <td>0</td>\n",
       "      <td>0</td>\n",
       "      <td>0</td>\n",
       "      <td>...</td>\n",
       "      <td>0</td>\n",
       "      <td>0</td>\n",
       "      <td>0</td>\n",
       "      <td>0</td>\n",
       "      <td>0</td>\n",
       "      <td>0</td>\n",
       "      <td>0</td>\n",
       "      <td>0</td>\n",
       "      <td>1</td>\n",
       "      <td>0</td>\n",
       "    </tr>\n",
       "    <tr>\n",
       "      <th>4</th>\n",
       "      <td>8.4</td>\n",
       "      <td>33</td>\n",
       "      <td>1.2</td>\n",
       "      <td>73</td>\n",
       "      <td>2045</td>\n",
       "      <td>1</td>\n",
       "      <td>0</td>\n",
       "      <td>0</td>\n",
       "      <td>0</td>\n",
       "      <td>0</td>\n",
       "      <td>...</td>\n",
       "      <td>0</td>\n",
       "      <td>0</td>\n",
       "      <td>1</td>\n",
       "      <td>0</td>\n",
       "      <td>0</td>\n",
       "      <td>0</td>\n",
       "      <td>0</td>\n",
       "      <td>1</td>\n",
       "      <td>0</td>\n",
       "      <td>0</td>\n",
       "    </tr>\n",
       "  </tbody>\n",
       "</table>\n",
       "<p>5 rows × 41 columns</p>\n",
       "</div>"
      ],
      "text/plain": [
       "   Price  MPG.city  EngineSize  Horsepower  Weight  Origin  \\\n",
       "0    7.4        31         1.3          63    1845       0   \n",
       "1    8.0        29         1.5          81    2345       1   \n",
       "2    8.3        29         1.6          82    2325       1   \n",
       "3    8.4        46         1.0          55    1695       1   \n",
       "4    8.4        33         1.2          73    2045       1   \n",
       "\n",
       "   Manufacturer_Acura  Manufacturer_Audi  Manufacturer_BMW  \\\n",
       "0                   0                  0                 0   \n",
       "1                   0                  0                 0   \n",
       "2                   0                  0                 0   \n",
       "3                   0                  0                 0   \n",
       "4                   0                  0                 0   \n",
       "\n",
       "   Manufacturer_Buick  ...  Manufacturer_Saab  Manufacturer_Saturn  \\\n",
       "0                   0  ...                  0                    0   \n",
       "1                   0  ...                  0                    0   \n",
       "2                   0  ...                  0                    0   \n",
       "3                   0  ...                  0                    0   \n",
       "4                   0  ...                  0                    0   \n",
       "\n",
       "   Manufacturer_Subaru  Manufacturer_Suzuki  Manufacturer_Toyota  \\\n",
       "0                    0                    0                    0   \n",
       "1                    0                    0                    0   \n",
       "2                    0                    0                    0   \n",
       "3                    0                    0                    0   \n",
       "4                    1                    0                    0   \n",
       "\n",
       "   Manufacturer_Volkswagen  Manufacturer_Volvo  DriveTrain_4WD  \\\n",
       "0                        0                   0               0   \n",
       "1                        0                   0               0   \n",
       "2                        0                   0               0   \n",
       "3                        0                   0               0   \n",
       "4                        0                   0               1   \n",
       "\n",
       "   DriveTrain_Front  DriveTrain_Rear  \n",
       "0                 1                0  \n",
       "1                 1                0  \n",
       "2                 1                0  \n",
       "3                 1                0  \n",
       "4                 0                0  \n",
       "\n",
       "[5 rows x 41 columns]"
      ]
     },
     "execution_count": 38,
     "metadata": {},
     "output_type": "execute_result"
    }
   ],
   "source": [
    "cars_data.head(5)"
   ]
  },
  {
   "cell_type": "code",
   "execution_count": 39,
   "metadata": {},
   "outputs": [
    {
     "data": {
      "text/plain": [
       "(81, 41)"
      ]
     },
     "execution_count": 39,
     "metadata": {},
     "output_type": "execute_result"
    }
   ],
   "source": [
    "cars_data.shape"
   ]
  },
  {
   "cell_type": "markdown",
   "metadata": {},
   "source": [
    "### Spliting datasets into training and testing datasets"
   ]
  },
  {
   "cell_type": "code",
   "execution_count": 40,
   "metadata": {},
   "outputs": [],
   "source": [
    "from sklearn.model_selection import train_test_split\n",
    "from sklearn.linear_model import LinearRegression\n",
    "from sklearn.metrics import r2_score, mean_squared_error"
   ]
  },
  {
   "cell_type": "markdown",
   "metadata": {},
   "source": [
    "#### Building a baseline model\n",
    "With just one feature. The X data needs to be a 2-D array"
   ]
  },
  {
   "cell_type": "code",
   "execution_count": 41,
   "metadata": {},
   "outputs": [],
   "source": [
    "X = cars_data[['Horsepower']]\n",
    "y = cars_data['Price']"
   ]
  },
  {
   "cell_type": "markdown",
   "metadata": {},
   "source": [
    "### Split data into train test dataset"
   ]
  },
  {
   "cell_type": "code",
   "execution_count": 42,
   "metadata": {},
   "outputs": [],
   "source": [
    "X_train, X_test, y_train, y_test = train_test_split(X, \n",
    "                                                    y, \n",
    "                                                    test_size = 0.2)"
   ]
  },
  {
   "cell_type": "markdown",
   "metadata": {},
   "source": [
    "### Train - Test data size"
   ]
  },
  {
   "cell_type": "code",
   "execution_count": 43,
   "metadata": {},
   "outputs": [
    {
     "data": {
      "text/plain": [
       "((64, 1), 64)"
      ]
     },
     "execution_count": 43,
     "metadata": {},
     "output_type": "execute_result"
    }
   ],
   "source": [
    "X_train.shape, y_train.size"
   ]
  },
  {
   "cell_type": "code",
   "execution_count": 44,
   "metadata": {},
   "outputs": [
    {
     "data": {
      "text/plain": [
       "((17, 1), (17,))"
      ]
     },
     "execution_count": 44,
     "metadata": {},
     "output_type": "execute_result"
    }
   ],
   "source": [
    "X_test.shape, y_test.shape"
   ]
  },
  {
   "cell_type": "markdown",
   "metadata": {},
   "source": [
    "### Import model and fit dataset"
   ]
  },
  {
   "cell_type": "code",
   "execution_count": 45,
   "metadata": {},
   "outputs": [
    {
     "data": {
      "text/plain": [
       "LinearRegression(copy_X=True, fit_intercept=True, n_jobs=None,\n",
       "         normalize=False)"
      ]
     },
     "execution_count": 45,
     "metadata": {},
     "output_type": "execute_result"
    }
   ],
   "source": [
    "linear_model = LinearRegression()\n",
    "\n",
    "linear_model.fit(X_train, y_train)"
   ]
  },
  {
   "cell_type": "markdown",
   "metadata": {},
   "source": [
    "### Training score"
   ]
  },
  {
   "cell_type": "code",
   "execution_count": 46,
   "metadata": {},
   "outputs": [
    {
     "data": {
      "text/plain": [
       "0.6641098672423656"
      ]
     },
     "execution_count": 46,
     "metadata": {},
     "output_type": "execute_result"
    }
   ],
   "source": [
    "linear_model.score(X_train, y_train)"
   ]
  },
  {
   "cell_type": "markdown",
   "metadata": {},
   "source": [
    "### Prediction"
   ]
  },
  {
   "cell_type": "code",
   "execution_count": 47,
   "metadata": {},
   "outputs": [
    {
     "data": {
      "text/plain": [
       "array([10.74722161, 18.55370777, 23.66830214, 20.5726266 , 14.5158701 ,\n",
       "       22.86073461, 22.59154543, 12.63154586, 21.24559954, 21.24559954,\n",
       "       12.0931675 ,  8.18992443, 27.70613981, 17.20776188, 19.49586989,\n",
       "       12.0931675 , 26.62938309])"
      ]
     },
     "execution_count": 47,
     "metadata": {},
     "output_type": "execute_result"
    }
   ],
   "source": [
    "y_pred = linear_model.predict(X_test)\n",
    "\n",
    "y_pred"
   ]
  },
  {
   "cell_type": "markdown",
   "metadata": {},
   "source": [
    "### Table for test values and Predicted values"
   ]
  },
  {
   "cell_type": "code",
   "execution_count": 48,
   "metadata": {},
   "outputs": [
    {
     "data": {
      "text/html": [
       "<div>\n",
       "<style scoped>\n",
       "    .dataframe tbody tr th:only-of-type {\n",
       "        vertical-align: middle;\n",
       "    }\n",
       "\n",
       "    .dataframe tbody tr th {\n",
       "        vertical-align: top;\n",
       "    }\n",
       "\n",
       "    .dataframe thead th {\n",
       "        text-align: right;\n",
       "    }\n",
       "</style>\n",
       "<table border=\"1\" class=\"dataframe\">\n",
       "  <thead>\n",
       "    <tr style=\"text-align: right;\">\n",
       "      <th></th>\n",
       "      <th>Test</th>\n",
       "      <th>Predicted</th>\n",
       "    </tr>\n",
       "  </thead>\n",
       "  <tbody>\n",
       "    <tr>\n",
       "      <th>13</th>\n",
       "      <td>10.3</td>\n",
       "      <td>12.093168</td>\n",
       "    </tr>\n",
       "    <tr>\n",
       "      <th>51</th>\n",
       "      <td>18.8</td>\n",
       "      <td>22.591545</td>\n",
       "    </tr>\n",
       "    <tr>\n",
       "      <th>0</th>\n",
       "      <td>7.4</td>\n",
       "      <td>8.189924</td>\n",
       "    </tr>\n",
       "    <tr>\n",
       "      <th>80</th>\n",
       "      <td>30.0</td>\n",
       "      <td>27.706140</td>\n",
       "    </tr>\n",
       "    <tr>\n",
       "      <th>47</th>\n",
       "      <td>18.2</td>\n",
       "      <td>17.207762</td>\n",
       "    </tr>\n",
       "    <tr>\n",
       "      <th>2</th>\n",
       "      <td>8.3</td>\n",
       "      <td>10.747222</td>\n",
       "    </tr>\n",
       "    <tr>\n",
       "      <th>62</th>\n",
       "      <td>20.2</td>\n",
       "      <td>18.553708</td>\n",
       "    </tr>\n",
       "    <tr>\n",
       "      <th>66</th>\n",
       "      <td>21.5</td>\n",
       "      <td>21.245600</td>\n",
       "    </tr>\n",
       "    <tr>\n",
       "      <th>18</th>\n",
       "      <td>11.3</td>\n",
       "      <td>12.631546</td>\n",
       "    </tr>\n",
       "    <tr>\n",
       "      <th>27</th>\n",
       "      <td>13.5</td>\n",
       "      <td>20.572627</td>\n",
       "    </tr>\n",
       "  </tbody>\n",
       "</table>\n",
       "</div>"
      ],
      "text/plain": [
       "    Test  Predicted\n",
       "13  10.3  12.093168\n",
       "51  18.8  22.591545\n",
       "0    7.4   8.189924\n",
       "80  30.0  27.706140\n",
       "47  18.2  17.207762\n",
       "2    8.3  10.747222\n",
       "62  20.2  18.553708\n",
       "66  21.5  21.245600\n",
       "18  11.3  12.631546\n",
       "27  13.5  20.572627"
      ]
     },
     "execution_count": 48,
     "metadata": {},
     "output_type": "execute_result"
    }
   ],
   "source": [
    "df = pd.DataFrame({'Test': y_test, 'Predicted': y_pred})\n",
    "\n",
    "df.sample(10)"
   ]
  },
  {
   "cell_type": "markdown",
   "metadata": {},
   "source": [
    "### The R-square score"
   ]
  },
  {
   "cell_type": "code",
   "execution_count": 49,
   "metadata": {},
   "outputs": [
    {
     "data": {
      "text/plain": [
       "0.6629680816863831"
      ]
     },
     "execution_count": 49,
     "metadata": {},
     "output_type": "execute_result"
    }
   ],
   "source": [
    "r2_score(y_test, y_pred)"
   ]
  },
  {
   "cell_type": "markdown",
   "metadata": {},
   "source": [
    "### Visualising the baseline model"
   ]
  },
  {
   "cell_type": "code",
   "execution_count": 50,
   "metadata": {
    "scrolled": true
   },
   "outputs": [
    {
     "data": {
      "image/png": "[encoded data removed]",
      "text/plain": [
       "<Figure size 720x576 with 1 Axes>"
      ]
     },
     "metadata": {
      "needs_background": "light"
     },
     "output_type": "display_data"
    }
   ],
   "source": [
    "plt.figure(figsize=(10, 8))\n",
    "\n",
    "plt.scatter(X_test, y_test)\n",
    "\n",
    "plt.plot(X_test, y_pred, c='r')\n",
    "\n",
    "plt.title('Regression Line')\n",
    "plt.xlabel('Horsepower (bhp)')\n",
    "plt.ylabel('Price (1000s)')\n",
    "\n",
    "plt.show()"
   ]
  },
  {
   "cell_type": "markdown",
   "metadata": {},
   "source": [
    "### Perform multiple regression"
   ]
  },
  {
   "cell_type": "code",
   "execution_count": 51,
   "metadata": {},
   "outputs": [],
   "source": [
    "y = cars_data['Price']\n",
    "\n",
    "X = cars_data.drop('Price', axis=1)"
   ]
  },
  {
   "cell_type": "code",
   "execution_count": 52,
   "metadata": {},
   "outputs": [
    {
     "data": {
      "text/plain": [
       "0    7.4\n",
       "1    8.0\n",
       "2    8.3\n",
       "3    8.4\n",
       "4    8.4\n",
       "Name: Price, dtype: float64"
      ]
     },
     "execution_count": 52,
     "metadata": {},
     "output_type": "execute_result"
    }
   ],
   "source": [
    "y.head()"
   ]
  },
  {
   "cell_type": "code",
   "execution_count": 53,
   "metadata": {},
   "outputs": [
    {
     "data": {
      "text/html": [
       "<div>\n",
       "<style scoped>\n",
       "    .dataframe tbody tr th:only-of-type {\n",
       "        vertical-align: middle;\n",
       "    }\n",
       "\n",
       "    .dataframe tbody tr th {\n",
       "        vertical-align: top;\n",
       "    }\n",
       "\n",
       "    .dataframe thead th {\n",
       "        text-align: right;\n",
       "    }\n",
       "</style>\n",
       "<table border=\"1\" class=\"dataframe\">\n",
       "  <thead>\n",
       "    <tr style=\"text-align: right;\">\n",
       "      <th></th>\n",
       "      <th>MPG.city</th>\n",
       "      <th>EngineSize</th>\n",
       "      <th>Horsepower</th>\n",
       "      <th>Weight</th>\n",
       "      <th>Origin</th>\n",
       "      <th>Manufacturer_Acura</th>\n",
       "      <th>Manufacturer_Audi</th>\n",
       "      <th>Manufacturer_BMW</th>\n",
       "      <th>Manufacturer_Buick</th>\n",
       "      <th>Manufacturer_Cadillac</th>\n",
       "      <th>...</th>\n",
       "      <th>Manufacturer_Saab</th>\n",
       "      <th>Manufacturer_Saturn</th>\n",
       "      <th>Manufacturer_Subaru</th>\n",
       "      <th>Manufacturer_Suzuki</th>\n",
       "      <th>Manufacturer_Toyota</th>\n",
       "      <th>Manufacturer_Volkswagen</th>\n",
       "      <th>Manufacturer_Volvo</th>\n",
       "      <th>DriveTrain_4WD</th>\n",
       "      <th>DriveTrain_Front</th>\n",
       "      <th>DriveTrain_Rear</th>\n",
       "    </tr>\n",
       "  </thead>\n",
       "  <tbody>\n",
       "    <tr>\n",
       "      <th>0</th>\n",
       "      <td>31</td>\n",
       "      <td>1.3</td>\n",
       "      <td>63</td>\n",
       "      <td>1845</td>\n",
       "      <td>0</td>\n",
       "      <td>0</td>\n",
       "      <td>0</td>\n",
       "      <td>0</td>\n",
       "      <td>0</td>\n",
       "      <td>0</td>\n",
       "      <td>...</td>\n",
       "      <td>0</td>\n",
       "      <td>0</td>\n",
       "      <td>0</td>\n",
       "      <td>0</td>\n",
       "      <td>0</td>\n",
       "      <td>0</td>\n",
       "      <td>0</td>\n",
       "      <td>0</td>\n",
       "      <td>1</td>\n",
       "      <td>0</td>\n",
       "    </tr>\n",
       "    <tr>\n",
       "      <th>1</th>\n",
       "      <td>29</td>\n",
       "      <td>1.5</td>\n",
       "      <td>81</td>\n",
       "      <td>2345</td>\n",
       "      <td>1</td>\n",
       "      <td>0</td>\n",
       "      <td>0</td>\n",
       "      <td>0</td>\n",
       "      <td>0</td>\n",
       "      <td>0</td>\n",
       "      <td>...</td>\n",
       "      <td>0</td>\n",
       "      <td>0</td>\n",
       "      <td>0</td>\n",
       "      <td>0</td>\n",
       "      <td>0</td>\n",
       "      <td>0</td>\n",
       "      <td>0</td>\n",
       "      <td>0</td>\n",
       "      <td>1</td>\n",
       "      <td>0</td>\n",
       "    </tr>\n",
       "    <tr>\n",
       "      <th>2</th>\n",
       "      <td>29</td>\n",
       "      <td>1.6</td>\n",
       "      <td>82</td>\n",
       "      <td>2325</td>\n",
       "      <td>1</td>\n",
       "      <td>0</td>\n",
       "      <td>0</td>\n",
       "      <td>0</td>\n",
       "      <td>0</td>\n",
       "      <td>0</td>\n",
       "      <td>...</td>\n",
       "      <td>0</td>\n",
       "      <td>0</td>\n",
       "      <td>0</td>\n",
       "      <td>0</td>\n",
       "      <td>0</td>\n",
       "      <td>0</td>\n",
       "      <td>0</td>\n",
       "      <td>0</td>\n",
       "      <td>1</td>\n",
       "      <td>0</td>\n",
       "    </tr>\n",
       "    <tr>\n",
       "      <th>3</th>\n",
       "      <td>46</td>\n",
       "      <td>1.0</td>\n",
       "      <td>55</td>\n",
       "      <td>1695</td>\n",
       "      <td>1</td>\n",
       "      <td>0</td>\n",
       "      <td>0</td>\n",
       "      <td>0</td>\n",
       "      <td>0</td>\n",
       "      <td>0</td>\n",
       "      <td>...</td>\n",
       "      <td>0</td>\n",
       "      <td>0</td>\n",
       "      <td>0</td>\n",
       "      <td>0</td>\n",
       "      <td>0</td>\n",
       "      <td>0</td>\n",
       "      <td>0</td>\n",
       "      <td>0</td>\n",
       "      <td>1</td>\n",
       "      <td>0</td>\n",
       "    </tr>\n",
       "    <tr>\n",
       "      <th>4</th>\n",
       "      <td>33</td>\n",
       "      <td>1.2</td>\n",
       "      <td>73</td>\n",
       "      <td>2045</td>\n",
       "      <td>1</td>\n",
       "      <td>0</td>\n",
       "      <td>0</td>\n",
       "      <td>0</td>\n",
       "      <td>0</td>\n",
       "      <td>0</td>\n",
       "      <td>...</td>\n",
       "      <td>0</td>\n",
       "      <td>0</td>\n",
       "      <td>1</td>\n",
       "      <td>0</td>\n",
       "      <td>0</td>\n",
       "      <td>0</td>\n",
       "      <td>0</td>\n",
       "      <td>1</td>\n",
       "      <td>0</td>\n",
       "      <td>0</td>\n",
       "    </tr>\n",
       "  </tbody>\n",
       "</table>\n",
       "<p>5 rows × 40 columns</p>\n",
       "</div>"
      ],
      "text/plain": [
       "   MPG.city  EngineSize  Horsepower  Weight  Origin  Manufacturer_Acura  \\\n",
       "0        31         1.3          63    1845       0                   0   \n",
       "1        29         1.5          81    2345       1                   0   \n",
       "2        29         1.6          82    2325       1                   0   \n",
       "3        46         1.0          55    1695       1                   0   \n",
       "4        33         1.2          73    2045       1                   0   \n",
       "\n",
       "   Manufacturer_Audi  Manufacturer_BMW  Manufacturer_Buick  \\\n",
       "0                  0                 0                   0   \n",
       "1                  0                 0                   0   \n",
       "2                  0                 0                   0   \n",
       "3                  0                 0                   0   \n",
       "4                  0                 0                   0   \n",
       "\n",
       "   Manufacturer_Cadillac  ...  Manufacturer_Saab  Manufacturer_Saturn  \\\n",
       "0                      0  ...                  0                    0   \n",
       "1                      0  ...                  0                    0   \n",
       "2                      0  ...                  0                    0   \n",
       "3                      0  ...                  0                    0   \n",
       "4                      0  ...                  0                    0   \n",
       "\n",
       "   Manufacturer_Subaru  Manufacturer_Suzuki  Manufacturer_Toyota  \\\n",
       "0                    0                    0                    0   \n",
       "1                    0                    0                    0   \n",
       "2                    0                    0                    0   \n",
       "3                    0                    0                    0   \n",
       "4                    1                    0                    0   \n",
       "\n",
       "   Manufacturer_Volkswagen  Manufacturer_Volvo  DriveTrain_4WD  \\\n",
       "0                        0                   0               0   \n",
       "1                        0                   0               0   \n",
       "2                        0                   0               0   \n",
       "3                        0                   0               0   \n",
       "4                        0                   0               1   \n",
       "\n",
       "   DriveTrain_Front  DriveTrain_Rear  \n",
       "0                 1                0  \n",
       "1                 1                0  \n",
       "2                 1                0  \n",
       "3                 1                0  \n",
       "4                 0                0  \n",
       "\n",
       "[5 rows x 40 columns]"
      ]
     },
     "execution_count": 53,
     "metadata": {},
     "output_type": "execute_result"
    }
   ],
   "source": [
    "X.head()"
   ]
  },
  {
   "cell_type": "code",
   "execution_count": 54,
   "metadata": {},
   "outputs": [],
   "source": [
    "X_train, X_test, y_train, y_test = train_test_split(X, \n",
    "                                                    y, \n",
    "                                                    test_size=0.2)"
   ]
  },
  {
   "cell_type": "code",
   "execution_count": 55,
   "metadata": {},
   "outputs": [
    {
     "data": {
      "text/plain": [
       "((64, 40), (64,))"
      ]
     },
     "execution_count": 55,
     "metadata": {},
     "output_type": "execute_result"
    }
   ],
   "source": [
    "X_train.shape, y_train.shape"
   ]
  },
  {
   "cell_type": "code",
   "execution_count": 56,
   "metadata": {},
   "outputs": [
    {
     "data": {
      "text/plain": [
       "((17, 40), (17,))"
      ]
     },
     "execution_count": 56,
     "metadata": {},
     "output_type": "execute_result"
    }
   ],
   "source": [
    "X_test.shape, y_test.shape"
   ]
  },
  {
   "cell_type": "code",
   "execution_count": 57,
   "metadata": {},
   "outputs": [
    {
     "data": {
      "text/plain": [
       "36    15.7\n",
       "38    15.9\n",
       "30    14.1\n",
       "68    22.7\n",
       "87    36.1\n",
       "28    13.9\n",
       "21    11.8\n",
       "12    10.1\n",
       "62    20.2\n",
       "49    18.4\n",
       "13    10.3\n",
       "64    20.8\n",
       "37    15.8\n",
       "34    15.6\n",
       "5      8.6\n",
       "14    10.9\n",
       "40    15.9\n",
       "Name: Price, dtype: float64"
      ]
     },
     "execution_count": 57,
     "metadata": {},
     "output_type": "execute_result"
    }
   ],
   "source": [
    "y_test"
   ]
  },
  {
   "cell_type": "markdown",
   "metadata": {},
   "source": [
    "### Selecting Linear Regresion model"
   ]
  },
  {
   "cell_type": "code",
   "execution_count": 58,
   "metadata": {},
   "outputs": [
    {
     "data": {
      "text/plain": [
       "LinearRegression(copy_X=True, fit_intercept=True, n_jobs=None,\n",
       "         normalize=False)"
      ]
     },
     "execution_count": 58,
     "metadata": {},
     "output_type": "execute_result"
    }
   ],
   "source": [
    "linear_model = LinearRegression()\n",
    "\n",
    "linear_model.fit(X_train, y_train)"
   ]
  },
  {
   "cell_type": "markdown",
   "metadata": {},
   "source": [
    "### Prediction"
   ]
  },
  {
   "cell_type": "code",
   "execution_count": 59,
   "metadata": {},
   "outputs": [
    {
     "data": {
      "text/plain": [
       "array([20.18558225, 26.76228039,  9.31670574, 21.32978249, 37.07221594,\n",
       "       13.2567541 , 15.63180454, 13.46027529, 17.3132706 , 17.36463077,\n",
       "       13.5074082 , 23.17199749, 27.019723  , 13.55928958, 13.80546852,\n",
       "       13.25345215, 12.26415895])"
      ]
     },
     "execution_count": 59,
     "metadata": {},
     "output_type": "execute_result"
    }
   ],
   "source": [
    "y_pred = linear_model.predict(X_test)\n",
    "\n",
    "y_pred"
   ]
  },
  {
   "cell_type": "markdown",
   "metadata": {},
   "source": [
    "### Score "
   ]
  },
  {
   "cell_type": "code",
   "execution_count": 60,
   "metadata": {},
   "outputs": [
    {
     "data": {
      "text/plain": [
       "0.9671771955060241"
      ]
     },
     "execution_count": 60,
     "metadata": {},
     "output_type": "execute_result"
    }
   ],
   "source": [
    "linear_model.score(X_train, y_train)"
   ]
  },
  {
   "cell_type": "code",
   "execution_count": 61,
   "metadata": {},
   "outputs": [
    {
     "data": {
      "text/plain": [
       "0.41406234907371914"
      ]
     },
     "execution_count": 61,
     "metadata": {},
     "output_type": "execute_result"
    }
   ],
   "source": [
    "linear_model.score(X_test, y_test)"
   ]
  },
  {
   "cell_type": "markdown",
   "metadata": {},
   "source": [
    "### Computing r2_score\n",
    "This is another way to calculate the R-square"
   ]
  },
  {
   "cell_type": "code",
   "execution_count": 62,
   "metadata": {},
   "outputs": [
    {
     "data": {
      "text/plain": [
       "0.4140623490737191"
      ]
     },
     "execution_count": 62,
     "metadata": {},
     "output_type": "execute_result"
    }
   ],
   "source": [
    "r2_score(y_test, y_pred)"
   ]
  },
  {
   "cell_type": "markdown",
   "metadata": {},
   "source": [
    "### Plotting graph between actual vs predicted"
   ]
  },
  {
   "cell_type": "code",
   "execution_count": 63,
   "metadata": {},
   "outputs": [
    {
     "data": {
      "image/png": "[encoded data removed]",
      "text/plain": [
       "<Figure size 864x432 with 1 Axes>"
      ]
     },
     "metadata": {
      "needs_background": "light"
     },
     "output_type": "display_data"
    }
   ],
   "source": [
    "plt.figure(figsize=(12,6))\n",
    "\n",
    "plt.plot(y_test.values, label='Actual')\n",
    "plt.plot(y_pred, label='Predicted')\n",
    "\n",
    "plt.title('Predicted vs original data', fontsize=15)\n",
    "\n",
    "plt.ylabel('Price')\n",
    "plt.legend()\n",
    "\n",
    "plt.show()"
   ]
  },
  {
   "cell_type": "code",
   "execution_count": null,
   "metadata": {},
   "outputs": [],
   "source": []
  },
  {
   "cell_type": "code",
   "execution_count": null,
   "metadata": {},
   "outputs": [],
   "source": []
  }
 ],
 "metadata": {
  "kernelspec": {
   "display_name": "Python 3",
   "language": "python",
   "name": "python3"
  },
  "language_info": {
   "codemirror_mode": {
    "name": "ipython",
    "version": 3
   },
   "file_extension": ".py",
   "mimetype": "text/x-python",
   "name": "python",
   "nbconvert_exporter": "python",
   "pygments_lexer": "ipython3",
   "version": "3.7.3"
  }
 },
 "nbformat": 4,
 "nbformat_minor": 2
}
