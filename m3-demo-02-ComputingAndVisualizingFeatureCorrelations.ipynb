{
 "cells": [
  {
   "cell_type": "markdown",
   "metadata": {},
   "source": [
    "## Computing and visualizing feature correlations"
   ]
  },
  {
   "cell_type": "code",
   "execution_count": 27,
   "metadata": {},
   "outputs": [
    {
     "name": "stdout",
     "output_type": "stream",
     "text": [
      "Requirement already satisfied: seaborn in c:\\users\\sillians\\anaconda3\\lib\\site-packages (0.9.0)\n",
      "Requirement already satisfied: matplotlib>=1.4.3 in c:\\users\\sillians\\anaconda3\\lib\\site-packages (from seaborn) (3.0.3)\n",
      "Requirement already satisfied: numpy>=1.9.3 in c:\\users\\sillians\\anaconda3\\lib\\site-packages (from seaborn) (1.16.2)\n",
      "Requirement already satisfied: pandas>=0.15.2 in c:\\users\\sillians\\anaconda3\\lib\\site-packages (from seaborn) (0.25.3)\n",
      "Requirement already satisfied: scipy>=0.14.0 in c:\\users\\sillians\\anaconda3\\lib\\site-packages (from seaborn) (1.4.1)\n",
      "Requirement already satisfied: cycler>=0.10 in c:\\users\\sillians\\anaconda3\\lib\\site-packages (from matplotlib>=1.4.3->seaborn) (0.10.0)\n",
      "Requirement already satisfied: kiwisolver>=1.0.1 in c:\\users\\sillians\\anaconda3\\lib\\site-packages (from matplotlib>=1.4.3->seaborn) (1.0.1)\n",
      "Requirement already satisfied: pyparsing!=2.0.4,!=2.1.2,!=2.1.6,>=2.0.1 in c:\\users\\sillians\\anaconda3\\lib\\site-packages (from matplotlib>=1.4.3->seaborn) (2.3.1)\n",
      "Requirement already satisfied: python-dateutil>=2.1 in c:\\users\\sillians\\anaconda3\\lib\\site-packages (from matplotlib>=1.4.3->seaborn) (2.8.0)\n",
      "Requirement already satisfied: pytz>=2017.2 in c:\\users\\sillians\\anaconda3\\lib\\site-packages (from pandas>=0.15.2->seaborn) (2018.9)\n",
      "Requirement already satisfied: six in c:\\users\\sillians\\anaconda3\\lib\\site-packages (from cycler>=0.10->matplotlib>=1.4.3->seaborn) (1.12.0)\n",
      "Requirement already satisfied: setuptools in c:\\users\\sillians\\anaconda3\\lib\\site-packages (from kiwisolver>=1.0.1->matplotlib>=1.4.3->seaborn) (41.2.0)\n"
     ]
    }
   ],
   "source": [
    "!pip install seaborn"
   ]
  },
  {
   "cell_type": "markdown",
   "metadata": {},
   "source": [
    "### Import libraries"
   ]
  },
  {
   "cell_type": "code",
   "execution_count": 28,
   "metadata": {},
   "outputs": [],
   "source": [
    "import pandas as pd\n",
    "import numpy as np\n",
    "import seaborn as sns\n",
    "import matplotlib.pyplot as plt"
   ]
  },
  {
   "cell_type": "markdown",
   "metadata": {},
   "source": [
    "### Load and read dataset "
   ]
  },
  {
   "cell_type": "code",
   "execution_count": 29,
   "metadata": {},
   "outputs": [],
   "source": [
    "melb_data = pd.read_csv('datasets/melb_data_processed.csv')"
   ]
  },
  {
   "cell_type": "code",
   "execution_count": 30,
   "metadata": {},
   "outputs": [
    {
     "data": {
      "text/html": [
       "<div>\n",
       "<style scoped>\n",
       "    .dataframe tbody tr th:only-of-type {\n",
       "        vertical-align: middle;\n",
       "    }\n",
       "\n",
       "    .dataframe tbody tr th {\n",
       "        vertical-align: top;\n",
       "    }\n",
       "\n",
       "    .dataframe thead th {\n",
       "        text-align: right;\n",
       "    }\n",
       "</style>\n",
       "<table border=\"1\" class=\"dataframe\">\n",
       "  <thead>\n",
       "    <tr style=\"text-align: right;\">\n",
       "      <th></th>\n",
       "      <th>Suburb</th>\n",
       "      <th>Address</th>\n",
       "      <th>Rooms</th>\n",
       "      <th>Type</th>\n",
       "      <th>Price</th>\n",
       "      <th>Method</th>\n",
       "      <th>SellerG</th>\n",
       "      <th>Date</th>\n",
       "      <th>Distance</th>\n",
       "      <th>Postcode</th>\n",
       "      <th>Bedroom2</th>\n",
       "      <th>Bathroom</th>\n",
       "      <th>Car</th>\n",
       "      <th>Landsize</th>\n",
       "      <th>CouncilArea</th>\n",
       "      <th>Lattitude</th>\n",
       "      <th>Longtitude</th>\n",
       "      <th>Regionname</th>\n",
       "      <th>Propertycount</th>\n",
       "    </tr>\n",
       "  </thead>\n",
       "  <tbody>\n",
       "    <tr>\n",
       "      <th>0</th>\n",
       "      <td>Abbotsford</td>\n",
       "      <td>85 Turner St</td>\n",
       "      <td>2</td>\n",
       "      <td>h</td>\n",
       "      <td>1480000.0</td>\n",
       "      <td>S</td>\n",
       "      <td>Biggin</td>\n",
       "      <td>3/12/2016</td>\n",
       "      <td>2.5</td>\n",
       "      <td>3067.0</td>\n",
       "      <td>2.0</td>\n",
       "      <td>1.0</td>\n",
       "      <td>1.0</td>\n",
       "      <td>202.0</td>\n",
       "      <td>Yarra</td>\n",
       "      <td>-37.7996</td>\n",
       "      <td>144.9984</td>\n",
       "      <td>Northern Metropolitan</td>\n",
       "      <td>4019.0</td>\n",
       "    </tr>\n",
       "    <tr>\n",
       "      <th>1</th>\n",
       "      <td>Abbotsford</td>\n",
       "      <td>25 Bloomburg St</td>\n",
       "      <td>2</td>\n",
       "      <td>h</td>\n",
       "      <td>1035000.0</td>\n",
       "      <td>S</td>\n",
       "      <td>Biggin</td>\n",
       "      <td>4/02/2016</td>\n",
       "      <td>2.5</td>\n",
       "      <td>3067.0</td>\n",
       "      <td>2.0</td>\n",
       "      <td>1.0</td>\n",
       "      <td>0.0</td>\n",
       "      <td>156.0</td>\n",
       "      <td>Yarra</td>\n",
       "      <td>-37.8079</td>\n",
       "      <td>144.9934</td>\n",
       "      <td>Northern Metropolitan</td>\n",
       "      <td>4019.0</td>\n",
       "    </tr>\n",
       "    <tr>\n",
       "      <th>2</th>\n",
       "      <td>Abbotsford</td>\n",
       "      <td>5 Charles St</td>\n",
       "      <td>3</td>\n",
       "      <td>h</td>\n",
       "      <td>1465000.0</td>\n",
       "      <td>SP</td>\n",
       "      <td>Biggin</td>\n",
       "      <td>4/03/2017</td>\n",
       "      <td>2.5</td>\n",
       "      <td>3067.0</td>\n",
       "      <td>3.0</td>\n",
       "      <td>2.0</td>\n",
       "      <td>0.0</td>\n",
       "      <td>134.0</td>\n",
       "      <td>Yarra</td>\n",
       "      <td>-37.8093</td>\n",
       "      <td>144.9944</td>\n",
       "      <td>Northern Metropolitan</td>\n",
       "      <td>4019.0</td>\n",
       "    </tr>\n",
       "    <tr>\n",
       "      <th>3</th>\n",
       "      <td>Abbotsford</td>\n",
       "      <td>40 Federation La</td>\n",
       "      <td>3</td>\n",
       "      <td>h</td>\n",
       "      <td>850000.0</td>\n",
       "      <td>PI</td>\n",
       "      <td>Biggin</td>\n",
       "      <td>4/03/2017</td>\n",
       "      <td>2.5</td>\n",
       "      <td>3067.0</td>\n",
       "      <td>3.0</td>\n",
       "      <td>2.0</td>\n",
       "      <td>1.0</td>\n",
       "      <td>94.0</td>\n",
       "      <td>Yarra</td>\n",
       "      <td>-37.7969</td>\n",
       "      <td>144.9969</td>\n",
       "      <td>Northern Metropolitan</td>\n",
       "      <td>4019.0</td>\n",
       "    </tr>\n",
       "    <tr>\n",
       "      <th>4</th>\n",
       "      <td>Abbotsford</td>\n",
       "      <td>55a Park St</td>\n",
       "      <td>4</td>\n",
       "      <td>h</td>\n",
       "      <td>1600000.0</td>\n",
       "      <td>VB</td>\n",
       "      <td>Nelson</td>\n",
       "      <td>4/06/2016</td>\n",
       "      <td>2.5</td>\n",
       "      <td>3067.0</td>\n",
       "      <td>3.0</td>\n",
       "      <td>1.0</td>\n",
       "      <td>2.0</td>\n",
       "      <td>120.0</td>\n",
       "      <td>Yarra</td>\n",
       "      <td>-37.8072</td>\n",
       "      <td>144.9941</td>\n",
       "      <td>Northern Metropolitan</td>\n",
       "      <td>4019.0</td>\n",
       "    </tr>\n",
       "  </tbody>\n",
       "</table>\n",
       "</div>"
      ],
      "text/plain": [
       "       Suburb           Address  Rooms Type      Price Method SellerG  \\\n",
       "0  Abbotsford      85 Turner St      2    h  1480000.0      S  Biggin   \n",
       "1  Abbotsford   25 Bloomburg St      2    h  1035000.0      S  Biggin   \n",
       "2  Abbotsford      5 Charles St      3    h  1465000.0     SP  Biggin   \n",
       "3  Abbotsford  40 Federation La      3    h   850000.0     PI  Biggin   \n",
       "4  Abbotsford       55a Park St      4    h  1600000.0     VB  Nelson   \n",
       "\n",
       "        Date  Distance  Postcode  Bedroom2  Bathroom  Car  Landsize  \\\n",
       "0  3/12/2016       2.5    3067.0       2.0       1.0  1.0     202.0   \n",
       "1  4/02/2016       2.5    3067.0       2.0       1.0  0.0     156.0   \n",
       "2  4/03/2017       2.5    3067.0       3.0       2.0  0.0     134.0   \n",
       "3  4/03/2017       2.5    3067.0       3.0       2.0  1.0      94.0   \n",
       "4  4/06/2016       2.5    3067.0       3.0       1.0  2.0     120.0   \n",
       "\n",
       "  CouncilArea  Lattitude  Longtitude             Regionname  Propertycount  \n",
       "0       Yarra   -37.7996    144.9984  Northern Metropolitan         4019.0  \n",
       "1       Yarra   -37.8079    144.9934  Northern Metropolitan         4019.0  \n",
       "2       Yarra   -37.8093    144.9944  Northern Metropolitan         4019.0  \n",
       "3       Yarra   -37.7969    144.9969  Northern Metropolitan         4019.0  \n",
       "4       Yarra   -37.8072    144.9941  Northern Metropolitan         4019.0  "
      ]
     },
     "execution_count": 30,
     "metadata": {},
     "output_type": "execute_result"
    }
   ],
   "source": [
    "melb_data.head()"
   ]
  },
  {
   "cell_type": "markdown",
   "metadata": {},
   "source": [
    "### Shape of data frame"
   ]
  },
  {
   "cell_type": "code",
   "execution_count": 31,
   "metadata": {},
   "outputs": [
    {
     "data": {
      "text/plain": [
       "(13580, 19)"
      ]
     },
     "execution_count": 31,
     "metadata": {},
     "output_type": "execute_result"
    }
   ],
   "source": [
    "melb_data.shape"
   ]
  },
  {
   "cell_type": "code",
   "execution_count": 34,
   "metadata": {},
   "outputs": [
    {
     "data": {
      "text/plain": [
       "Suburb           0\n",
       "Address          0\n",
       "Rooms            0\n",
       "Type             0\n",
       "Price            0\n",
       "Method           0\n",
       "SellerG          0\n",
       "Date             0\n",
       "Distance         0\n",
       "Postcode         0\n",
       "Bedroom2         0\n",
       "Bathroom         0\n",
       "Car              0\n",
       "Landsize         0\n",
       "CouncilArea      0\n",
       "Lattitude        0\n",
       "Longtitude       0\n",
       "Regionname       0\n",
       "Propertycount    0\n",
       "dtype: int64"
      ]
     },
     "execution_count": 34,
     "metadata": {},
     "output_type": "execute_result"
    }
   ],
   "source": [
    "melb_data.isnull().sum()"
   ]
  },
  {
   "cell_type": "code",
   "execution_count": 36,
   "metadata": {},
   "outputs": [
    {
     "name": "stdout",
     "output_type": "stream",
     "text": [
      "<class 'pandas.core.frame.DataFrame'>\n",
      "RangeIndex: 13580 entries, 0 to 13579\n",
      "Data columns (total 19 columns):\n",
      "Suburb           13580 non-null object\n",
      "Address          13580 non-null object\n",
      "Rooms            13580 non-null int64\n",
      "Type             13580 non-null object\n",
      "Price            13580 non-null float64\n",
      "Method           13580 non-null object\n",
      "SellerG          13580 non-null object\n",
      "Date             13580 non-null object\n",
      "Distance         13580 non-null float64\n",
      "Postcode         13580 non-null float64\n",
      "Bedroom2         13580 non-null float64\n",
      "Bathroom         13580 non-null float64\n",
      "Car              13580 non-null float64\n",
      "Landsize         13580 non-null float64\n",
      "CouncilArea      13580 non-null object\n",
      "Lattitude        13580 non-null float64\n",
      "Longtitude       13580 non-null float64\n",
      "Regionname       13580 non-null object\n",
      "Propertycount    13580 non-null float64\n",
      "dtypes: float64(10), int64(1), object(8)\n",
      "memory usage: 2.0+ MB\n"
     ]
    }
   ],
   "source": [
    "melb_data.info()"
   ]
  },
  {
   "cell_type": "markdown",
   "metadata": {},
   "source": [
    "### Describe of dataset and mean, standar deviation and min, max value"
   ]
  },
  {
   "cell_type": "code",
   "execution_count": 37,
   "metadata": {},
   "outputs": [
    {
     "data": {
      "text/html": [
       "<div>\n",
       "<style scoped>\n",
       "    .dataframe tbody tr th:only-of-type {\n",
       "        vertical-align: middle;\n",
       "    }\n",
       "\n",
       "    .dataframe tbody tr th {\n",
       "        vertical-align: top;\n",
       "    }\n",
       "\n",
       "    .dataframe thead th {\n",
       "        text-align: right;\n",
       "    }\n",
       "</style>\n",
       "<table border=\"1\" class=\"dataframe\">\n",
       "  <thead>\n",
       "    <tr style=\"text-align: right;\">\n",
       "      <th></th>\n",
       "      <th>count</th>\n",
       "      <th>mean</th>\n",
       "      <th>std</th>\n",
       "      <th>min</th>\n",
       "      <th>25%</th>\n",
       "      <th>50%</th>\n",
       "      <th>75%</th>\n",
       "      <th>max</th>\n",
       "    </tr>\n",
       "  </thead>\n",
       "  <tbody>\n",
       "    <tr>\n",
       "      <th>Rooms</th>\n",
       "      <td>13580.0</td>\n",
       "      <td>2.94</td>\n",
       "      <td>0.96</td>\n",
       "      <td>1.00</td>\n",
       "      <td>2.00</td>\n",
       "      <td>3.0</td>\n",
       "      <td>3.00</td>\n",
       "      <td>10.00</td>\n",
       "    </tr>\n",
       "    <tr>\n",
       "      <th>Price</th>\n",
       "      <td>13580.0</td>\n",
       "      <td>1075684.08</td>\n",
       "      <td>639310.72</td>\n",
       "      <td>85000.00</td>\n",
       "      <td>650000.00</td>\n",
       "      <td>903000.0</td>\n",
       "      <td>1330000.00</td>\n",
       "      <td>9000000.00</td>\n",
       "    </tr>\n",
       "    <tr>\n",
       "      <th>Distance</th>\n",
       "      <td>13580.0</td>\n",
       "      <td>10.14</td>\n",
       "      <td>5.87</td>\n",
       "      <td>0.00</td>\n",
       "      <td>6.10</td>\n",
       "      <td>9.2</td>\n",
       "      <td>13.00</td>\n",
       "      <td>48.10</td>\n",
       "    </tr>\n",
       "    <tr>\n",
       "      <th>Postcode</th>\n",
       "      <td>13580.0</td>\n",
       "      <td>3105.30</td>\n",
       "      <td>90.68</td>\n",
       "      <td>3000.00</td>\n",
       "      <td>3044.00</td>\n",
       "      <td>3084.0</td>\n",
       "      <td>3148.00</td>\n",
       "      <td>3977.00</td>\n",
       "    </tr>\n",
       "    <tr>\n",
       "      <th>Bedroom2</th>\n",
       "      <td>13580.0</td>\n",
       "      <td>2.91</td>\n",
       "      <td>0.97</td>\n",
       "      <td>0.00</td>\n",
       "      <td>2.00</td>\n",
       "      <td>3.0</td>\n",
       "      <td>3.00</td>\n",
       "      <td>20.00</td>\n",
       "    </tr>\n",
       "    <tr>\n",
       "      <th>Bathroom</th>\n",
       "      <td>13580.0</td>\n",
       "      <td>1.53</td>\n",
       "      <td>0.69</td>\n",
       "      <td>0.00</td>\n",
       "      <td>1.00</td>\n",
       "      <td>1.0</td>\n",
       "      <td>2.00</td>\n",
       "      <td>8.00</td>\n",
       "    </tr>\n",
       "    <tr>\n",
       "      <th>Car</th>\n",
       "      <td>13580.0</td>\n",
       "      <td>1.61</td>\n",
       "      <td>0.96</td>\n",
       "      <td>0.00</td>\n",
       "      <td>1.00</td>\n",
       "      <td>2.0</td>\n",
       "      <td>2.00</td>\n",
       "      <td>10.00</td>\n",
       "    </tr>\n",
       "    <tr>\n",
       "      <th>Landsize</th>\n",
       "      <td>13580.0</td>\n",
       "      <td>558.42</td>\n",
       "      <td>3990.67</td>\n",
       "      <td>0.00</td>\n",
       "      <td>177.00</td>\n",
       "      <td>440.0</td>\n",
       "      <td>651.00</td>\n",
       "      <td>433014.00</td>\n",
       "    </tr>\n",
       "    <tr>\n",
       "      <th>Lattitude</th>\n",
       "      <td>13580.0</td>\n",
       "      <td>-37.81</td>\n",
       "      <td>0.08</td>\n",
       "      <td>-38.18</td>\n",
       "      <td>-37.86</td>\n",
       "      <td>-37.8</td>\n",
       "      <td>-37.76</td>\n",
       "      <td>-37.41</td>\n",
       "    </tr>\n",
       "    <tr>\n",
       "      <th>Longtitude</th>\n",
       "      <td>13580.0</td>\n",
       "      <td>145.00</td>\n",
       "      <td>0.10</td>\n",
       "      <td>144.43</td>\n",
       "      <td>144.93</td>\n",
       "      <td>145.0</td>\n",
       "      <td>145.06</td>\n",
       "      <td>145.53</td>\n",
       "    </tr>\n",
       "    <tr>\n",
       "      <th>Propertycount</th>\n",
       "      <td>13580.0</td>\n",
       "      <td>7454.42</td>\n",
       "      <td>4378.58</td>\n",
       "      <td>249.00</td>\n",
       "      <td>4380.00</td>\n",
       "      <td>6555.0</td>\n",
       "      <td>10331.00</td>\n",
       "      <td>21650.00</td>\n",
       "    </tr>\n",
       "  </tbody>\n",
       "</table>\n",
       "</div>"
      ],
      "text/plain": [
       "                 count        mean        std       min        25%       50%  \\\n",
       "Rooms          13580.0        2.94       0.96      1.00       2.00       3.0   \n",
       "Price          13580.0  1075684.08  639310.72  85000.00  650000.00  903000.0   \n",
       "Distance       13580.0       10.14       5.87      0.00       6.10       9.2   \n",
       "Postcode       13580.0     3105.30      90.68   3000.00    3044.00    3084.0   \n",
       "Bedroom2       13580.0        2.91       0.97      0.00       2.00       3.0   \n",
       "Bathroom       13580.0        1.53       0.69      0.00       1.00       1.0   \n",
       "Car            13580.0        1.61       0.96      0.00       1.00       2.0   \n",
       "Landsize       13580.0      558.42    3990.67      0.00     177.00     440.0   \n",
       "Lattitude      13580.0      -37.81       0.08    -38.18     -37.86     -37.8   \n",
       "Longtitude     13580.0      145.00       0.10    144.43     144.93     145.0   \n",
       "Propertycount  13580.0     7454.42    4378.58    249.00    4380.00    6555.0   \n",
       "\n",
       "                      75%         max  \n",
       "Rooms                3.00       10.00  \n",
       "Price          1330000.00  9000000.00  \n",
       "Distance            13.00       48.10  \n",
       "Postcode          3148.00     3977.00  \n",
       "Bedroom2             3.00       20.00  \n",
       "Bathroom             2.00        8.00  \n",
       "Car                  2.00       10.00  \n",
       "Landsize           651.00   433014.00  \n",
       "Lattitude          -37.76      -37.41  \n",
       "Longtitude         145.06      145.53  \n",
       "Propertycount    10331.00    21650.00  "
      ]
     },
     "execution_count": 37,
     "metadata": {},
     "output_type": "execute_result"
    }
   ],
   "source": [
    "melb_data.describe().transpose().round(2)"
   ]
  },
  {
   "cell_type": "markdown",
   "metadata": {},
   "source": [
    "**Note:-** we saw in above cell that feature datasets contains some numerical values and non-numerical values(i.e categorical values). But we know that machine learning model only takes numerical values as input for applying models."
   ]
  },
  {
   "cell_type": "markdown",
   "metadata": {},
   "source": [
    "### Select numerical type data"
   ]
  },
  {
   "cell_type": "code",
   "execution_count": 7,
   "metadata": {},
   "outputs": [],
   "source": [
    "py_num_types = ['int16', 'int32', 'int64', 'float16', 'float32', 'float64']  "
   ]
  },
  {
   "cell_type": "code",
   "execution_count": 8,
   "metadata": {},
   "outputs": [
    {
     "data": {
      "text/plain": [
       "['Rooms',\n",
       " 'Price',\n",
       " 'Distance',\n",
       " 'Postcode',\n",
       " 'Bedroom2',\n",
       " 'Bathroom',\n",
       " 'Car',\n",
       " 'Landsize',\n",
       " 'Lattitude',\n",
       " 'Longtitude',\n",
       " 'Propertycount']"
      ]
     },
     "execution_count": 8,
     "metadata": {},
     "output_type": "execute_result"
    }
   ],
   "source": [
    "numerical_columns = list(melb_data.select_dtypes(include=py_num_types).columns)\n",
    "\n",
    "numerical_columns"
   ]
  },
  {
   "cell_type": "markdown",
   "metadata": {},
   "source": [
    "### Dropped categorical values"
   ]
  },
  {
   "cell_type": "code",
   "execution_count": 9,
   "metadata": {},
   "outputs": [],
   "source": [
    "clean_data_numeric = melb_data[numerical_columns]"
   ]
  },
  {
   "cell_type": "code",
   "execution_count": 10,
   "metadata": {},
   "outputs": [
    {
     "data": {
      "text/html": [
       "<div>\n",
       "<style scoped>\n",
       "    .dataframe tbody tr th:only-of-type {\n",
       "        vertical-align: middle;\n",
       "    }\n",
       "\n",
       "    .dataframe tbody tr th {\n",
       "        vertical-align: top;\n",
       "    }\n",
       "\n",
       "    .dataframe thead th {\n",
       "        text-align: right;\n",
       "    }\n",
       "</style>\n",
       "<table border=\"1\" class=\"dataframe\">\n",
       "  <thead>\n",
       "    <tr style=\"text-align: right;\">\n",
       "      <th></th>\n",
       "      <th>Rooms</th>\n",
       "      <th>Price</th>\n",
       "      <th>Distance</th>\n",
       "      <th>Postcode</th>\n",
       "      <th>Bedroom2</th>\n",
       "      <th>Bathroom</th>\n",
       "      <th>Car</th>\n",
       "      <th>Landsize</th>\n",
       "      <th>Lattitude</th>\n",
       "      <th>Longtitude</th>\n",
       "      <th>Propertycount</th>\n",
       "    </tr>\n",
       "  </thead>\n",
       "  <tbody>\n",
       "    <tr>\n",
       "      <td>7294</td>\n",
       "      <td>2</td>\n",
       "      <td>463000.0</td>\n",
       "      <td>13.9</td>\n",
       "      <td>3020.0</td>\n",
       "      <td>3.0</td>\n",
       "      <td>1.0</td>\n",
       "      <td>1.0</td>\n",
       "      <td>199.0</td>\n",
       "      <td>-37.77610</td>\n",
       "      <td>144.81640</td>\n",
       "      <td>2185.0</td>\n",
       "    </tr>\n",
       "    <tr>\n",
       "      <td>10792</td>\n",
       "      <td>2</td>\n",
       "      <td>635000.0</td>\n",
       "      <td>3.5</td>\n",
       "      <td>3207.0</td>\n",
       "      <td>2.0</td>\n",
       "      <td>2.0</td>\n",
       "      <td>1.0</td>\n",
       "      <td>2166.0</td>\n",
       "      <td>-37.84146</td>\n",
       "      <td>144.94121</td>\n",
       "      <td>8648.0</td>\n",
       "    </tr>\n",
       "    <tr>\n",
       "      <td>3010</td>\n",
       "      <td>2</td>\n",
       "      <td>640000.0</td>\n",
       "      <td>12.1</td>\n",
       "      <td>3046.0</td>\n",
       "      <td>2.0</td>\n",
       "      <td>1.0</td>\n",
       "      <td>1.0</td>\n",
       "      <td>612.0</td>\n",
       "      <td>-37.71090</td>\n",
       "      <td>144.93890</td>\n",
       "      <td>2606.0</td>\n",
       "    </tr>\n",
       "    <tr>\n",
       "      <td>1013</td>\n",
       "      <td>3</td>\n",
       "      <td>495000.0</td>\n",
       "      <td>10.8</td>\n",
       "      <td>3019.0</td>\n",
       "      <td>3.0</td>\n",
       "      <td>2.0</td>\n",
       "      <td>1.0</td>\n",
       "      <td>327.0</td>\n",
       "      <td>-37.78510</td>\n",
       "      <td>144.85170</td>\n",
       "      <td>3589.0</td>\n",
       "    </tr>\n",
       "    <tr>\n",
       "      <td>6030</td>\n",
       "      <td>3</td>\n",
       "      <td>605000.0</td>\n",
       "      <td>13.3</td>\n",
       "      <td>3020.0</td>\n",
       "      <td>3.0</td>\n",
       "      <td>1.0</td>\n",
       "      <td>1.0</td>\n",
       "      <td>617.0</td>\n",
       "      <td>-37.76830</td>\n",
       "      <td>144.83140</td>\n",
       "      <td>4217.0</td>\n",
       "    </tr>\n",
       "    <tr>\n",
       "      <td>5434</td>\n",
       "      <td>3</td>\n",
       "      <td>1165000.0</td>\n",
       "      <td>2.6</td>\n",
       "      <td>3121.0</td>\n",
       "      <td>3.0</td>\n",
       "      <td>1.0</td>\n",
       "      <td>1.0</td>\n",
       "      <td>167.0</td>\n",
       "      <td>-37.81670</td>\n",
       "      <td>145.00980</td>\n",
       "      <td>14949.0</td>\n",
       "    </tr>\n",
       "    <tr>\n",
       "      <td>8484</td>\n",
       "      <td>4</td>\n",
       "      <td>932500.0</td>\n",
       "      <td>14.9</td>\n",
       "      <td>3087.0</td>\n",
       "      <td>4.0</td>\n",
       "      <td>2.0</td>\n",
       "      <td>2.0</td>\n",
       "      <td>585.0</td>\n",
       "      <td>-37.71540</td>\n",
       "      <td>145.07770</td>\n",
       "      <td>2329.0</td>\n",
       "    </tr>\n",
       "    <tr>\n",
       "      <td>12620</td>\n",
       "      <td>6</td>\n",
       "      <td>1155000.0</td>\n",
       "      <td>14.7</td>\n",
       "      <td>3152.0</td>\n",
       "      <td>6.0</td>\n",
       "      <td>3.0</td>\n",
       "      <td>3.0</td>\n",
       "      <td>754.0</td>\n",
       "      <td>-37.88153</td>\n",
       "      <td>145.23003</td>\n",
       "      <td>7082.0</td>\n",
       "    </tr>\n",
       "    <tr>\n",
       "      <td>5829</td>\n",
       "      <td>3</td>\n",
       "      <td>1120000.0</td>\n",
       "      <td>6.1</td>\n",
       "      <td>3182.0</td>\n",
       "      <td>3.0</td>\n",
       "      <td>2.0</td>\n",
       "      <td>2.0</td>\n",
       "      <td>1039.0</td>\n",
       "      <td>-37.86380</td>\n",
       "      <td>144.98200</td>\n",
       "      <td>13240.0</td>\n",
       "    </tr>\n",
       "    <tr>\n",
       "      <td>5902</td>\n",
       "      <td>5</td>\n",
       "      <td>915000.0</td>\n",
       "      <td>9.7</td>\n",
       "      <td>3041.0</td>\n",
       "      <td>5.0</td>\n",
       "      <td>3.0</td>\n",
       "      <td>4.0</td>\n",
       "      <td>754.0</td>\n",
       "      <td>-37.72980</td>\n",
       "      <td>144.91620</td>\n",
       "      <td>3284.0</td>\n",
       "    </tr>\n",
       "  </tbody>\n",
       "</table>\n",
       "</div>"
      ],
      "text/plain": [
       "       Rooms      Price  Distance  Postcode  Bedroom2  Bathroom  Car  \\\n",
       "7294       2   463000.0      13.9    3020.0       3.0       1.0  1.0   \n",
       "10792      2   635000.0       3.5    3207.0       2.0       2.0  1.0   \n",
       "3010       2   640000.0      12.1    3046.0       2.0       1.0  1.0   \n",
       "1013       3   495000.0      10.8    3019.0       3.0       2.0  1.0   \n",
       "6030       3   605000.0      13.3    3020.0       3.0       1.0  1.0   \n",
       "5434       3  1165000.0       2.6    3121.0       3.0       1.0  1.0   \n",
       "8484       4   932500.0      14.9    3087.0       4.0       2.0  2.0   \n",
       "12620      6  1155000.0      14.7    3152.0       6.0       3.0  3.0   \n",
       "5829       3  1120000.0       6.1    3182.0       3.0       2.0  2.0   \n",
       "5902       5   915000.0       9.7    3041.0       5.0       3.0  4.0   \n",
       "\n",
       "       Landsize  Lattitude  Longtitude  Propertycount  \n",
       "7294      199.0  -37.77610   144.81640         2185.0  \n",
       "10792    2166.0  -37.84146   144.94121         8648.0  \n",
       "3010      612.0  -37.71090   144.93890         2606.0  \n",
       "1013      327.0  -37.78510   144.85170         3589.0  \n",
       "6030      617.0  -37.76830   144.83140         4217.0  \n",
       "5434      167.0  -37.81670   145.00980        14949.0  \n",
       "8484      585.0  -37.71540   145.07770         2329.0  \n",
       "12620     754.0  -37.88153   145.23003         7082.0  \n",
       "5829     1039.0  -37.86380   144.98200        13240.0  \n",
       "5902      754.0  -37.72980   144.91620         3284.0  "
      ]
     },
     "execution_count": 10,
     "metadata": {},
     "output_type": "execute_result"
    }
   ],
   "source": [
    "clean_data_numeric.sample(10)"
   ]
  },
  {
   "cell_type": "code",
   "execution_count": 11,
   "metadata": {},
   "outputs": [
    {
     "data": {
      "text/plain": [
       "(13580, 11)"
      ]
     },
     "execution_count": 11,
     "metadata": {},
     "output_type": "execute_result"
    }
   ],
   "source": [
    "clean_data_numeric.shape"
   ]
  },
  {
   "cell_type": "code",
   "execution_count": 12,
   "metadata": {},
   "outputs": [],
   "source": [
    "clean_data_numeric = clean_data_numeric.drop(['Lattitude', \n",
    "                                              'Longtitude', \n",
    "                                              'Postcode' ], axis=1)"
   ]
  },
  {
   "cell_type": "code",
   "execution_count": 13,
   "metadata": {},
   "outputs": [
    {
     "data": {
      "text/plain": [
       "(13580, 8)"
      ]
     },
     "execution_count": 13,
     "metadata": {},
     "output_type": "execute_result"
    }
   ],
   "source": [
    "clean_data_numeric.shape"
   ]
  },
  {
   "cell_type": "markdown",
   "metadata": {},
   "source": [
    "### Now look, the data type of each columns are convert in correct data type or not?"
   ]
  },
  {
   "cell_type": "code",
   "execution_count": 14,
   "metadata": {},
   "outputs": [
    {
     "name": "stdout",
     "output_type": "stream",
     "text": [
      "<class 'pandas.core.frame.DataFrame'>\n",
      "RangeIndex: 13580 entries, 0 to 13579\n",
      "Data columns (total 8 columns):\n",
      "Rooms            13580 non-null int64\n",
      "Price            13580 non-null float64\n",
      "Distance         13580 non-null float64\n",
      "Bedroom2         13580 non-null float64\n",
      "Bathroom         13580 non-null float64\n",
      "Car              13580 non-null float64\n",
      "Landsize         13580 non-null float64\n",
      "Propertycount    13580 non-null float64\n",
      "dtypes: float64(7), int64(1)\n",
      "memory usage: 848.9 KB\n"
     ]
    }
   ],
   "source": [
    "clean_data_numeric.info()"
   ]
  },
  {
   "cell_type": "markdown",
   "metadata": {},
   "source": [
    "## Features  correlations  \n",
    "* __Pearson correlation__:-  \n",
    "\n",
    "`Pearson correlation` measures the `linear association` between `continuous variables`. In other words, this coefficient quantifies the degree to which a relationship between two variables can be described by a line. Remarkably, while `correlation` can have many interpretations, the same formula developed by `Karl Pearson` over 120 years ago is still the most widely used today."
   ]
  },
  {
   "cell_type": "code",
   "execution_count": 46,
   "metadata": {
    "scrolled": true
   },
   "outputs": [
    {
     "data": {
      "text/html": [
       "<div>\n",
       "<style scoped>\n",
       "    .dataframe tbody tr th:only-of-type {\n",
       "        vertical-align: middle;\n",
       "    }\n",
       "\n",
       "    .dataframe tbody tr th {\n",
       "        vertical-align: top;\n",
       "    }\n",
       "\n",
       "    .dataframe thead th {\n",
       "        text-align: right;\n",
       "    }\n",
       "</style>\n",
       "<table border=\"1\" class=\"dataframe\">\n",
       "  <thead>\n",
       "    <tr style=\"text-align: right;\">\n",
       "      <th></th>\n",
       "      <th>Rooms</th>\n",
       "      <th>Price</th>\n",
       "      <th>Distance</th>\n",
       "      <th>Bedroom2</th>\n",
       "      <th>Bathroom</th>\n",
       "      <th>Car</th>\n",
       "      <th>Landsize</th>\n",
       "      <th>Propertycount</th>\n",
       "    </tr>\n",
       "  </thead>\n",
       "  <tbody>\n",
       "    <tr>\n",
       "      <th>Rooms</th>\n",
       "      <td>1.000000</td>\n",
       "      <td>0.496634</td>\n",
       "      <td>0.294203</td>\n",
       "      <td>0.944190</td>\n",
       "      <td>0.592934</td>\n",
       "      <td>0.406935</td>\n",
       "      <td>0.025678</td>\n",
       "      <td>-0.081530</td>\n",
       "    </tr>\n",
       "    <tr>\n",
       "      <th>Price</th>\n",
       "      <td>0.496634</td>\n",
       "      <td>1.000000</td>\n",
       "      <td>-0.162522</td>\n",
       "      <td>0.475951</td>\n",
       "      <td>0.467038</td>\n",
       "      <td>0.239109</td>\n",
       "      <td>0.037507</td>\n",
       "      <td>-0.042153</td>\n",
       "    </tr>\n",
       "    <tr>\n",
       "      <th>Distance</th>\n",
       "      <td>0.294203</td>\n",
       "      <td>-0.162522</td>\n",
       "      <td>1.000000</td>\n",
       "      <td>0.295927</td>\n",
       "      <td>0.127155</td>\n",
       "      <td>0.260596</td>\n",
       "      <td>0.025004</td>\n",
       "      <td>-0.054910</td>\n",
       "    </tr>\n",
       "    <tr>\n",
       "      <th>Bedroom2</th>\n",
       "      <td>0.944190</td>\n",
       "      <td>0.475951</td>\n",
       "      <td>0.295927</td>\n",
       "      <td>1.000000</td>\n",
       "      <td>0.584685</td>\n",
       "      <td>0.403867</td>\n",
       "      <td>0.025646</td>\n",
       "      <td>-0.081350</td>\n",
       "    </tr>\n",
       "    <tr>\n",
       "      <th>Bathroom</th>\n",
       "      <td>0.592934</td>\n",
       "      <td>0.467038</td>\n",
       "      <td>0.127155</td>\n",
       "      <td>0.584685</td>\n",
       "      <td>1.000000</td>\n",
       "      <td>0.321014</td>\n",
       "      <td>0.037130</td>\n",
       "      <td>-0.052201</td>\n",
       "    </tr>\n",
       "    <tr>\n",
       "      <th>Car</th>\n",
       "      <td>0.406935</td>\n",
       "      <td>0.239109</td>\n",
       "      <td>0.260596</td>\n",
       "      <td>0.403867</td>\n",
       "      <td>0.321014</td>\n",
       "      <td>1.000000</td>\n",
       "      <td>0.026780</td>\n",
       "      <td>-0.024344</td>\n",
       "    </tr>\n",
       "    <tr>\n",
       "      <th>Landsize</th>\n",
       "      <td>0.025678</td>\n",
       "      <td>0.037507</td>\n",
       "      <td>0.025004</td>\n",
       "      <td>0.025646</td>\n",
       "      <td>0.037130</td>\n",
       "      <td>0.026780</td>\n",
       "      <td>1.000000</td>\n",
       "      <td>-0.006854</td>\n",
       "    </tr>\n",
       "    <tr>\n",
       "      <th>Propertycount</th>\n",
       "      <td>-0.081530</td>\n",
       "      <td>-0.042153</td>\n",
       "      <td>-0.054910</td>\n",
       "      <td>-0.081350</td>\n",
       "      <td>-0.052201</td>\n",
       "      <td>-0.024344</td>\n",
       "      <td>-0.006854</td>\n",
       "      <td>1.000000</td>\n",
       "    </tr>\n",
       "  </tbody>\n",
       "</table>\n",
       "</div>"
      ],
      "text/plain": [
       "                  Rooms     Price  Distance  Bedroom2  Bathroom       Car  \\\n",
       "Rooms          1.000000  0.496634  0.294203  0.944190  0.592934  0.406935   \n",
       "Price          0.496634  1.000000 -0.162522  0.475951  0.467038  0.239109   \n",
       "Distance       0.294203 -0.162522  1.000000  0.295927  0.127155  0.260596   \n",
       "Bedroom2       0.944190  0.475951  0.295927  1.000000  0.584685  0.403867   \n",
       "Bathroom       0.592934  0.467038  0.127155  0.584685  1.000000  0.321014   \n",
       "Car            0.406935  0.239109  0.260596  0.403867  0.321014  1.000000   \n",
       "Landsize       0.025678  0.037507  0.025004  0.025646  0.037130  0.026780   \n",
       "Propertycount -0.081530 -0.042153 -0.054910 -0.081350 -0.052201 -0.024344   \n",
       "\n",
       "               Landsize  Propertycount  \n",
       "Rooms          0.025678      -0.081530  \n",
       "Price          0.037507      -0.042153  \n",
       "Distance       0.025004      -0.054910  \n",
       "Bedroom2       0.025646      -0.081350  \n",
       "Bathroom       0.037130      -0.052201  \n",
       "Car            0.026780      -0.024344  \n",
       "Landsize       1.000000      -0.006854  \n",
       "Propertycount -0.006854       1.000000  "
      ]
     },
     "execution_count": 46,
     "metadata": {},
     "output_type": "execute_result"
    }
   ],
   "source": [
    "pearson_corr = clean_data_numeric.corr(method='pearson')\n",
    "\n",
    "pearson_corr"
   ]
  },
  {
   "cell_type": "markdown",
   "metadata": {},
   "source": [
    "* __HeatMap plot__"
   ]
  },
  {
   "cell_type": "code",
   "execution_count": 47,
   "metadata": {},
   "outputs": [
    {
     "data": {
      "image/png": "[encoded data removed]",
      "text/plain": [
       "<Figure size 720x576 with 2 Axes>"
      ]
     },
     "metadata": {},
     "output_type": "display_data"
    }
   ],
   "source": [
    "plt.figure(figsize = (10, 8))\n",
    "\n",
    "sns.heatmap(pearson_corr, \n",
    "            linewidth=1, \n",
    "            annot=True, \n",
    "            annot_kws={'size' : 10} )\n",
    "\n",
    "plt.title('Pearson correlations', fontsize=25)\n",
    "\n",
    "plt.show()"
   ]
  },
  {
   "cell_type": "markdown",
   "metadata": {},
   "source": [
    "* __Spearman correlation__\n",
    "\n",
    "`Spearman's rank correlation` coefficient can be defined as a special case of `Pearson ρ` applied to ranked (sorted) variables. Unlike `Pearson`, `Spearman's correlation` is not restricted to `linear relationships`. Instead, it measures `monotonic association` (only strictly increasing or decreasing, but not mixed) between two variables and relies on the rank order of values. In other words, rather than comparing means and variances, `Spearman's coefficient` looks at the relative order of values for each variable. This makes it appropriate to use with both `continuous` and `discrete data`."
   ]
  },
  {
   "cell_type": "code",
   "execution_count": 48,
   "metadata": {},
   "outputs": [
    {
     "data": {
      "text/html": [
       "<div>\n",
       "<style scoped>\n",
       "    .dataframe tbody tr th:only-of-type {\n",
       "        vertical-align: middle;\n",
       "    }\n",
       "\n",
       "    .dataframe tbody tr th {\n",
       "        vertical-align: top;\n",
       "    }\n",
       "\n",
       "    .dataframe thead th {\n",
       "        text-align: right;\n",
       "    }\n",
       "</style>\n",
       "<table border=\"1\" class=\"dataframe\">\n",
       "  <thead>\n",
       "    <tr style=\"text-align: right;\">\n",
       "      <th></th>\n",
       "      <th>Rooms</th>\n",
       "      <th>Price</th>\n",
       "      <th>Distance</th>\n",
       "      <th>Bedroom2</th>\n",
       "      <th>Bathroom</th>\n",
       "      <th>Car</th>\n",
       "      <th>Landsize</th>\n",
       "      <th>Propertycount</th>\n",
       "    </tr>\n",
       "  </thead>\n",
       "  <tbody>\n",
       "    <tr>\n",
       "      <th>Rooms</th>\n",
       "      <td>1.000000</td>\n",
       "      <td>0.539886</td>\n",
       "      <td>0.351416</td>\n",
       "      <td>0.959668</td>\n",
       "      <td>0.586860</td>\n",
       "      <td>0.473515</td>\n",
       "      <td>0.485742</td>\n",
       "      <td>-0.077651</td>\n",
       "    </tr>\n",
       "    <tr>\n",
       "      <th>Price</th>\n",
       "      <td>0.539886</td>\n",
       "      <td>1.000000</td>\n",
       "      <td>-0.129990</td>\n",
       "      <td>0.524029</td>\n",
       "      <td>0.427199</td>\n",
       "      <td>0.289197</td>\n",
       "      <td>0.327200</td>\n",
       "      <td>-0.011409</td>\n",
       "    </tr>\n",
       "    <tr>\n",
       "      <th>Distance</th>\n",
       "      <td>0.351416</td>\n",
       "      <td>-0.129990</td>\n",
       "      <td>1.000000</td>\n",
       "      <td>0.358071</td>\n",
       "      <td>0.156650</td>\n",
       "      <td>0.342227</td>\n",
       "      <td>0.417379</td>\n",
       "      <td>-0.141644</td>\n",
       "    </tr>\n",
       "    <tr>\n",
       "      <th>Bedroom2</th>\n",
       "      <td>0.959668</td>\n",
       "      <td>0.524029</td>\n",
       "      <td>0.358071</td>\n",
       "      <td>1.000000</td>\n",
       "      <td>0.580364</td>\n",
       "      <td>0.474682</td>\n",
       "      <td>0.479792</td>\n",
       "      <td>-0.076816</td>\n",
       "    </tr>\n",
       "    <tr>\n",
       "      <th>Bathroom</th>\n",
       "      <td>0.586860</td>\n",
       "      <td>0.427199</td>\n",
       "      <td>0.156650</td>\n",
       "      <td>0.580364</td>\n",
       "      <td>1.000000</td>\n",
       "      <td>0.369977</td>\n",
       "      <td>0.212134</td>\n",
       "      <td>-0.035286</td>\n",
       "    </tr>\n",
       "    <tr>\n",
       "      <th>Car</th>\n",
       "      <td>0.473515</td>\n",
       "      <td>0.289197</td>\n",
       "      <td>0.342227</td>\n",
       "      <td>0.474682</td>\n",
       "      <td>0.369977</td>\n",
       "      <td>1.000000</td>\n",
       "      <td>0.404978</td>\n",
       "      <td>-0.043038</td>\n",
       "    </tr>\n",
       "    <tr>\n",
       "      <th>Landsize</th>\n",
       "      <td>0.485742</td>\n",
       "      <td>0.327200</td>\n",
       "      <td>0.417379</td>\n",
       "      <td>0.479792</td>\n",
       "      <td>0.212134</td>\n",
       "      <td>0.404978</td>\n",
       "      <td>1.000000</td>\n",
       "      <td>-0.074200</td>\n",
       "    </tr>\n",
       "    <tr>\n",
       "      <th>Propertycount</th>\n",
       "      <td>-0.077651</td>\n",
       "      <td>-0.011409</td>\n",
       "      <td>-0.141644</td>\n",
       "      <td>-0.076816</td>\n",
       "      <td>-0.035286</td>\n",
       "      <td>-0.043038</td>\n",
       "      <td>-0.074200</td>\n",
       "      <td>1.000000</td>\n",
       "    </tr>\n",
       "  </tbody>\n",
       "</table>\n",
       "</div>"
      ],
      "text/plain": [
       "                  Rooms     Price  Distance  Bedroom2  Bathroom       Car  \\\n",
       "Rooms          1.000000  0.539886  0.351416  0.959668  0.586860  0.473515   \n",
       "Price          0.539886  1.000000 -0.129990  0.524029  0.427199  0.289197   \n",
       "Distance       0.351416 -0.129990  1.000000  0.358071  0.156650  0.342227   \n",
       "Bedroom2       0.959668  0.524029  0.358071  1.000000  0.580364  0.474682   \n",
       "Bathroom       0.586860  0.427199  0.156650  0.580364  1.000000  0.369977   \n",
       "Car            0.473515  0.289197  0.342227  0.474682  0.369977  1.000000   \n",
       "Landsize       0.485742  0.327200  0.417379  0.479792  0.212134  0.404978   \n",
       "Propertycount -0.077651 -0.011409 -0.141644 -0.076816 -0.035286 -0.043038   \n",
       "\n",
       "               Landsize  Propertycount  \n",
       "Rooms          0.485742      -0.077651  \n",
       "Price          0.327200      -0.011409  \n",
       "Distance       0.417379      -0.141644  \n",
       "Bedroom2       0.479792      -0.076816  \n",
       "Bathroom       0.212134      -0.035286  \n",
       "Car            0.404978      -0.043038  \n",
       "Landsize       1.000000      -0.074200  \n",
       "Propertycount -0.074200       1.000000  "
      ]
     },
     "execution_count": 48,
     "metadata": {},
     "output_type": "execute_result"
    }
   ],
   "source": [
    "spearman_corr = clean_data_numeric.corr(method='spearman')\n",
    "\n",
    "spearman_corr"
   ]
  },
  {
   "cell_type": "markdown",
   "metadata": {},
   "source": [
    "* __Heatmap plot of spearman correlation__"
   ]
  },
  {
   "cell_type": "code",
   "execution_count": 49,
   "metadata": {},
   "outputs": [
    {
     "data": {
      "image/png": "[encoded data removed]",
      "text/plain": [
       "<Figure size 720x576 with 2 Axes>"
      ]
     },
     "metadata": {},
     "output_type": "display_data"
    }
   ],
   "source": [
    "plt.figure(figsize = (10, 8))\n",
    "\n",
    "sns.heatmap(spearman_corr, \n",
    "            linewidth=1, \n",
    "            annot=True, \n",
    "            annot_kws={'size' : 10} )\n",
    "\n",
    "plt.title('Spearman correlations', fontsize=25)\n",
    "\n",
    "plt.show()"
   ]
  },
  {
   "cell_type": "markdown",
   "metadata": {},
   "source": [
    "* __Kendall correlation__\n",
    "\n",
    "The third correlation coefficient we will discuss is also based on `variable ranks`. However, unlike Spearman's coefficient, `Kendall's τ` does not take into account the difference between ranks — only `directional agreement`. Therefore, this coefficient is more appropriate for `discrete data`. for [more](https://www.datascience.com/learn-data-science/fundamentals/introduction-to-correlation-python-data-science)"
   ]
  },
  {
   "cell_type": "code",
   "execution_count": 50,
   "metadata": {},
   "outputs": [
    {
     "data": {
      "image/png": "[encoded data removed]",
      "text/plain": [
       "<Figure size 720x576 with 2 Axes>"
      ]
     },
     "metadata": {},
     "output_type": "display_data"
    }
   ],
   "source": [
    "kendall_corr = clean_data_numeric.corr(method='kendall')\n",
    "\n",
    "plt.figure(figsize = (10, 8))\n",
    "\n",
    "sns.heatmap(kendall_corr, \n",
    "            linewidth=1, \n",
    "            annot=True, \n",
    "            annot_kws={'size' : 10} )\n",
    "\n",
    "plt.title('Kendall correlations', fontsize=25)\n",
    "\n",
    "plt.show()"
   ]
  },
  {
   "cell_type": "markdown",
   "metadata": {},
   "source": [
    "https://www.scikit-yb.org/en/latest/api/target/feature_correlation.html?highlight=correlation"
   ]
  },
  {
   "cell_type": "code",
   "execution_count": 51,
   "metadata": {},
   "outputs": [
    {
     "name": "stdout",
     "output_type": "stream",
     "text": [
      "Requirement already up-to-date: yellowbrick in c:\\users\\sillians\\anaconda3\\lib\\site-packages (1.1)\n",
      "Requirement already satisfied, skipping upgrade: numpy>=1.13.0 in c:\\users\\sillians\\anaconda3\\lib\\site-packages (from yellowbrick) (1.16.2)\n",
      "Requirement already satisfied, skipping upgrade: scikit-learn>=0.20 in c:\\users\\sillians\\anaconda3\\lib\\site-packages (from yellowbrick) (0.20.3)\n",
      "Requirement already satisfied, skipping upgrade: scipy>=1.0.0 in c:\\users\\sillians\\anaconda3\\lib\\site-packages (from yellowbrick) (1.4.1)\n",
      "Requirement already satisfied, skipping upgrade: matplotlib!=3.0.0,>=2.0.2 in c:\\users\\sillians\\anaconda3\\lib\\site-packages (from yellowbrick) (3.0.3)\n",
      "Requirement already satisfied, skipping upgrade: cycler>=0.10.0 in c:\\users\\sillians\\anaconda3\\lib\\site-packages (from yellowbrick) (0.10.0)\n",
      "Requirement already satisfied, skipping upgrade: kiwisolver>=1.0.1 in c:\\users\\sillians\\anaconda3\\lib\\site-packages (from matplotlib!=3.0.0,>=2.0.2->yellowbrick) (1.0.1)\n",
      "Requirement already satisfied, skipping upgrade: pyparsing!=2.0.4,!=2.1.2,!=2.1.6,>=2.0.1 in c:\\users\\sillians\\anaconda3\\lib\\site-packages (from matplotlib!=3.0.0,>=2.0.2->yellowbrick) (2.3.1)\n",
      "Requirement already satisfied, skipping upgrade: python-dateutil>=2.1 in c:\\users\\sillians\\anaconda3\\lib\\site-packages (from matplotlib!=3.0.0,>=2.0.2->yellowbrick) (2.8.0)\n",
      "Requirement already satisfied, skipping upgrade: six in c:\\users\\sillians\\anaconda3\\lib\\site-packages (from cycler>=0.10.0->yellowbrick) (1.12.0)\n",
      "Requirement already satisfied, skipping upgrade: setuptools in c:\\users\\sillians\\anaconda3\\lib\\site-packages (from kiwisolver>=1.0.1->matplotlib!=3.0.0,>=2.0.2->yellowbrick) (41.2.0)\n"
     ]
    }
   ],
   "source": [
    "!pip install yellowbrick --upgrade"
   ]
  },
  {
   "cell_type": "markdown",
   "metadata": {},
   "source": [
    "#### Visualize the correlation of the dependent variable with the features\n",
    "We begin with the numeric features"
   ]
  },
  {
   "cell_type": "code",
   "execution_count": 52,
   "metadata": {},
   "outputs": [],
   "source": [
    "target = clean_data_numeric['Price']\n",
    "\n",
    "features = clean_data_numeric.drop('Price', axis=1)"
   ]
  },
  {
   "cell_type": "markdown",
   "metadata": {},
   "source": [
    "* __Graphical representation of pearson correlation __"
   ]
  },
  {
   "cell_type": "code",
   "execution_count": 53,
   "metadata": {},
   "outputs": [],
   "source": [
    "from yellowbrick.target import FeatureCorrelation\n",
    "\n",
    "feature_names = list(features.columns)"
   ]
  },
  {
   "cell_type": "markdown",
   "metadata": {},
   "source": [
    "#### The default correlation calculated is the Pearson correlation"
   ]
  },
  {
   "cell_type": "code",
   "execution_count": 54,
   "metadata": {},
   "outputs": [
    {
     "data": {
      "image/png": "[encoded data removed]",
      "text/plain": [
       "<Figure size 576x396 with 1 Axes>"
      ]
     },
     "metadata": {},
     "output_type": "display_data"
    },
    {
     "data": {
      "text/plain": [
       "<matplotlib.axes._subplots.AxesSubplot at 0x26a958c4ba8>"
      ]
     },
     "execution_count": 54,
     "metadata": {},
     "output_type": "execute_result"
    }
   ],
   "source": [
    "visualizer = FeatureCorrelation(labels = feature_names, method='pearson')\n",
    "\n",
    "visualizer.fit(features, target)\n",
    "\n",
    "visualizer.poof()"
   ]
  },
  {
   "cell_type": "markdown",
   "metadata": {},
   "source": [
    "https://scikit-learn.org/stable/modules/generated/sklearn.feature_selection.mutual_info_regression.html"
   ]
  },
  {
   "cell_type": "code",
   "execution_count": 55,
   "metadata": {},
   "outputs": [
    {
     "data": {
      "image/png": "[encoded data removed]",
      "text/plain": [
       "<Figure size 576x396 with 1 Axes>"
      ]
     },
     "metadata": {},
     "output_type": "display_data"
    },
    {
     "data": {
      "text/plain": [
       "<matplotlib.axes._subplots.AxesSubplot at 0x26a959bff28>"
      ]
     },
     "execution_count": 55,
     "metadata": {},
     "output_type": "execute_result"
    }
   ],
   "source": [
    "visualizer = FeatureCorrelation(method='mutual_info-regression',\n",
    "                                feature_names=feature_names, sort=True)\n",
    "\n",
    "visualizer.fit(features, target)\n",
    "visualizer.poof()"
   ]
  },
  {
   "cell_type": "code",
   "execution_count": null,
   "metadata": {},
   "outputs": [],
   "source": []
  },
  {
   "cell_type": "code",
   "execution_count": null,
   "metadata": {},
   "outputs": [],
   "source": []
  }
 ],
 "metadata": {
  "kernelspec": {
   "display_name": "Python 3",
   "language": "python",
   "name": "python3"
  },
  "language_info": {
   "codemirror_mode": {
    "name": "ipython",
    "version": 3
   },
   "file_extension": ".py",
   "mimetype": "text/x-python",
   "name": "python",
   "nbconvert_exporter": "python",
   "pygments_lexer": "ipython3",
   "version": "3.7.3"
  }
 },
 "nbformat": 4,
 "nbformat_minor": 2
}
